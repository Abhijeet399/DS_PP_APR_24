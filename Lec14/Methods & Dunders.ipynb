{
 "cells": [
  {
   "cell_type": "code",
   "execution_count": 3,
   "id": "eaccd8c6",
   "metadata": {},
   "outputs": [],
   "source": [
    "class Person:\n",
    "    \n",
    "    name = 'Abhijeet'\n",
    "    age = 24\n",
    "    height = 5.10\n",
    "    \n",
    "    def change_properties(self, new_name, new_age, new_height):\n",
    "        self.name = new_name\n",
    "        self.age = new_age\n",
    "        self.height = new_height"
   ]
  },
  {
   "cell_type": "code",
   "execution_count": 4,
   "id": "6f262761",
   "metadata": {},
   "outputs": [],
   "source": [
    "a = Person()\n",
    "b = Person()"
   ]
  },
  {
   "cell_type": "code",
   "execution_count": 5,
   "id": "f02c5288",
   "metadata": {},
   "outputs": [
    {
     "name": "stdout",
     "output_type": "stream",
     "text": [
      "Abhijeet Abhijeet Abhijeet Abhijeet\n",
      "1694236693616 1694236693616 1694236693616 1694236693616\n"
     ]
    }
   ],
   "source": [
    "print(a.name, b.name, Person.name, Person().name)\n",
    "print(id(a.name), id(b.name), id(Person.name), id(Person().name))"
   ]
  },
  {
   "cell_type": "code",
   "execution_count": 6,
   "id": "1215a633",
   "metadata": {},
   "outputs": [],
   "source": [
    "a.change_properties('Pratham', 20, 5.10)"
   ]
  },
  {
   "cell_type": "code",
   "execution_count": 7,
   "id": "35e1d2a3",
   "metadata": {},
   "outputs": [
    {
     "name": "stdout",
     "output_type": "stream",
     "text": [
      "Pratham Abhijeet Abhijeet Abhijeet\n",
      "1694244004592 1694236693616 1694236693616 1694236693616\n"
     ]
    }
   ],
   "source": [
    "print(a.name, b.name, Person.name, Person().name)\n",
    "print(id(a.name), id(b.name), id(Person.name), id(Person().name))"
   ]
  },
  {
   "cell_type": "code",
   "execution_count": 8,
   "id": "cec7dc99",
   "metadata": {},
   "outputs": [
    {
     "name": "stdout",
     "output_type": "stream",
     "text": [
      "1694236693616\n",
      "1694244004592\n"
     ]
    }
   ],
   "source": [
    "var = 'Abhijeet'\n",
    "print(id(var))\n",
    "var = 'Pratham'\n",
    "print(id(var))"
   ]
  },
  {
   "cell_type": "code",
   "execution_count": 20,
   "id": "9e13c463",
   "metadata": {},
   "outputs": [],
   "source": [
    "class Person:\n",
    "    \n",
    "    living = True\n",
    "    \n",
    "    def __init__(self, name, age, height):\n",
    "        self.name = name\n",
    "        self.age = age\n",
    "        self.height = height\n",
    "\n",
    "#     def change_properties(self, new_name, new_age, new_height):\n",
    "#         self.name = new_name\n",
    "#         self.age = new_age\n",
    "#         self.height = new_height"
   ]
  },
  {
   "cell_type": "code",
   "execution_count": 36,
   "id": "9c844158",
   "metadata": {},
   "outputs": [],
   "source": [
    "abc = Person('Abhijeet', 24, 5.10)\n",
    "lmn = Person('Pratham', 20, 5.10)"
   ]
  },
  {
   "cell_type": "code",
   "execution_count": 24,
   "id": "08bb7777",
   "metadata": {},
   "outputs": [
    {
     "name": "stdout",
     "output_type": "stream",
     "text": [
      "5.1 5.1\n",
      "1694242090512 1694251744336\n"
     ]
    }
   ],
   "source": [
    "print(a.height, b.height)\n",
    "print(id(a.height), id(b.height))"
   ]
  },
  {
   "cell_type": "code",
   "execution_count": 25,
   "id": "595aa15f",
   "metadata": {},
   "outputs": [],
   "source": [
    "a = 10"
   ]
  },
  {
   "cell_type": "code",
   "execution_count": 27,
   "id": "ee860a9a",
   "metadata": {},
   "outputs": [
    {
     "name": "stdout",
     "output_type": "stream",
     "text": [
      "<class 'int'>\n"
     ]
    }
   ],
   "source": [
    "print(type(a))"
   ]
  },
  {
   "cell_type": "code",
   "execution_count": 28,
   "id": "1481ca72",
   "metadata": {},
   "outputs": [],
   "source": [
    "b = 'Abhijeet'"
   ]
  },
  {
   "cell_type": "code",
   "execution_count": 29,
   "id": "46e82827",
   "metadata": {},
   "outputs": [],
   "source": [
    "c = 1"
   ]
  },
  {
   "cell_type": "code",
   "execution_count": 30,
   "id": "e67bd59d",
   "metadata": {},
   "outputs": [
    {
     "name": "stdout",
     "output_type": "stream",
     "text": [
      "11\n"
     ]
    }
   ],
   "source": [
    "print(a + c)"
   ]
  },
  {
   "cell_type": "code",
   "execution_count": 32,
   "id": "90b1695d",
   "metadata": {},
   "outputs": [
    {
     "name": "stdout",
     "output_type": "stream",
     "text": [
      "aAbhijeet\n"
     ]
    }
   ],
   "source": [
    "print('a' + b)"
   ]
  },
  {
   "cell_type": "code",
   "execution_count": 33,
   "id": "c0886e4b",
   "metadata": {},
   "outputs": [
    {
     "name": "stdout",
     "output_type": "stream",
     "text": [
      "2\n"
     ]
    }
   ],
   "source": [
    "print(True + c)"
   ]
  },
  {
   "cell_type": "code",
   "execution_count": 34,
   "id": "5326fdda",
   "metadata": {},
   "outputs": [
    {
     "name": "stdout",
     "output_type": "stream",
     "text": [
      "3.1\n"
     ]
    }
   ],
   "source": [
    "print(2.1 + c)"
   ]
  },
  {
   "cell_type": "code",
   "execution_count": 35,
   "id": "4e3e65ae",
   "metadata": {},
   "outputs": [
    {
     "ename": "TypeError",
     "evalue": "can only concatenate str (not \"int\") to str",
     "output_type": "error",
     "traceback": [
      "\u001b[1;31m---------------------------------------------------------------------------\u001b[0m",
      "\u001b[1;31mTypeError\u001b[0m                                 Traceback (most recent call last)",
      "Cell \u001b[1;32mIn[35], line 1\u001b[0m\n\u001b[1;32m----> 1\u001b[0m \u001b[38;5;28mprint\u001b[39m(\u001b[38;5;124;43m'\u001b[39;49m\u001b[38;5;124;43mAbhijeet\u001b[39;49m\u001b[38;5;124;43m'\u001b[39;49m\u001b[43m \u001b[49m\u001b[38;5;241;43m+\u001b[39;49m\u001b[43m \u001b[49m\u001b[38;5;241;43m10\u001b[39;49m)\n",
      "\u001b[1;31mTypeError\u001b[0m: can only concatenate str (not \"int\") to str"
     ]
    }
   ],
   "source": [
    "print('Abhijeet' + 10)"
   ]
  },
  {
   "cell_type": "code",
   "execution_count": 37,
   "id": "b4f75c4b",
   "metadata": {},
   "outputs": [
    {
     "ename": "TypeError",
     "evalue": "unsupported operand type(s) for +: 'Person' and 'Person'",
     "output_type": "error",
     "traceback": [
      "\u001b[1;31m---------------------------------------------------------------------------\u001b[0m",
      "\u001b[1;31mTypeError\u001b[0m                                 Traceback (most recent call last)",
      "Cell \u001b[1;32mIn[37], line 1\u001b[0m\n\u001b[1;32m----> 1\u001b[0m \u001b[38;5;28mprint\u001b[39m(\u001b[43mabc\u001b[49m\u001b[43m \u001b[49m\u001b[38;5;241;43m+\u001b[39;49m\u001b[43m \u001b[49m\u001b[43mlmn\u001b[49m)\n",
      "\u001b[1;31mTypeError\u001b[0m: unsupported operand type(s) for +: 'Person' and 'Person'"
     ]
    }
   ],
   "source": [
    "print(abc + lmn)"
   ]
  },
  {
   "cell_type": "code",
   "execution_count": 156,
   "id": "6fbd2e09",
   "metadata": {},
   "outputs": [],
   "source": [
    "class custom_dtype:\n",
    "    \n",
    "    def __init__(self, value):\n",
    "        self.value = value\n",
    "    \n",
    "    def __add__(self, other):\n",
    "        if (type(other) == int):\n",
    "            print(self.value + other)\n",
    "            return custom_dtype(self.value + other)\n",
    "        elif (type(other) == type(self)):\n",
    "            print(self.value + other.value)\n",
    "            return custom_dtype(self.value + other.value)\n",
    "        elif (type(other) == str):\n",
    "            print(str(self.value) + other)\n",
    "            return str(self.value) + other\n",
    "        elif (type(other) == bool):\n",
    "            raise ZeroDivisionError('You are dumb')\n",
    "    \n",
    "    def __sub__(self, other):\n",
    "        if (type(other) == int):\n",
    "            print(self.value - other)\n",
    "            return self.value - other\n",
    "        elif (type(other) == type(self)):\n",
    "            print(self.value - other.value)\n",
    "            return self.value - other.value\n",
    "        elif (type(other) == str):\n",
    "            raise ZeroDivisionError('You are dumb')\n",
    "    \n",
    "    def __str__(self):\n",
    "        return str(self.value)"
   ]
  },
  {
   "cell_type": "code",
   "execution_count": 157,
   "id": "b4627419",
   "metadata": {},
   "outputs": [],
   "source": [
    "a = custom_dtype(10)\n",
    "b = custom_dtype(20)"
   ]
  },
  {
   "cell_type": "code",
   "execution_count": 158,
   "id": "7b944bc9",
   "metadata": {},
   "outputs": [
    {
     "name": "stdout",
     "output_type": "stream",
     "text": [
      "110\n",
      "110\n"
     ]
    }
   ],
   "source": [
    "print(a + 100)"
   ]
  },
  {
   "cell_type": "code",
   "execution_count": 159,
   "id": "06233f0a",
   "metadata": {},
   "outputs": [
    {
     "name": "stdout",
     "output_type": "stream",
     "text": [
      "True\n"
     ]
    }
   ],
   "source": [
    "print(isinstance('Abhijeet', str))"
   ]
  },
  {
   "cell_type": "code",
   "execution_count": 160,
   "id": "cb49e77f",
   "metadata": {},
   "outputs": [
    {
     "name": "stdout",
     "output_type": "stream",
     "text": [
      "30\n"
     ]
    },
    {
     "data": {
      "text/plain": [
       "<__main__.custom_dtype at 0x18a78b381f0>"
      ]
     },
     "execution_count": 160,
     "metadata": {},
     "output_type": "execute_result"
    }
   ],
   "source": [
    "a + b"
   ]
  },
  {
   "cell_type": "code",
   "execution_count": 161,
   "id": "d134b03a",
   "metadata": {},
   "outputs": [
    {
     "data": {
      "text/plain": [
       "type"
      ]
     },
     "execution_count": 161,
     "metadata": {},
     "output_type": "execute_result"
    }
   ],
   "source": [
    "type(type(a))"
   ]
  },
  {
   "cell_type": "code",
   "execution_count": 162,
   "id": "58bc9f64",
   "metadata": {},
   "outputs": [
    {
     "name": "stdout",
     "output_type": "stream",
     "text": [
      "10Abhijeet\n",
      "10Abhijeet\n"
     ]
    }
   ],
   "source": [
    "print(a + 'Abhijeet')"
   ]
  },
  {
   "cell_type": "code",
   "execution_count": 163,
   "id": "3c8b7f82",
   "metadata": {},
   "outputs": [
    {
     "name": "stdout",
     "output_type": "stream",
     "text": [
      "<class 'type'>\n"
     ]
    }
   ],
   "source": [
    "print(type(type))"
   ]
  },
  {
   "cell_type": "code",
   "execution_count": 164,
   "id": "9ea5d752",
   "metadata": {},
   "outputs": [
    {
     "ename": "ZeroDivisionError",
     "evalue": "You are dumb",
     "output_type": "error",
     "traceback": [
      "\u001b[1;31m---------------------------------------------------------------------------\u001b[0m",
      "\u001b[1;31mZeroDivisionError\u001b[0m                         Traceback (most recent call last)",
      "Cell \u001b[1;32mIn[164], line 1\u001b[0m\n\u001b[1;32m----> 1\u001b[0m \u001b[38;5;28mprint\u001b[39m(\u001b[43ma\u001b[49m\u001b[43m \u001b[49m\u001b[38;5;241;43m+\u001b[39;49m\u001b[43m \u001b[49m\u001b[38;5;28;43;01mTrue\u001b[39;49;00m)\n",
      "Cell \u001b[1;32mIn[156], line 17\u001b[0m, in \u001b[0;36mcustom_dtype.__add__\u001b[1;34m(self, other)\u001b[0m\n\u001b[0;32m     15\u001b[0m     \u001b[38;5;28;01mreturn\u001b[39;00m \u001b[38;5;28mstr\u001b[39m(\u001b[38;5;28mself\u001b[39m\u001b[38;5;241m.\u001b[39mvalue) \u001b[38;5;241m+\u001b[39m other\n\u001b[0;32m     16\u001b[0m \u001b[38;5;28;01melif\u001b[39;00m (\u001b[38;5;28mtype\u001b[39m(other) \u001b[38;5;241m==\u001b[39m \u001b[38;5;28mbool\u001b[39m):\n\u001b[1;32m---> 17\u001b[0m     \u001b[38;5;28;01mraise\u001b[39;00m \u001b[38;5;167;01mZeroDivisionError\u001b[39;00m(\u001b[38;5;124m'\u001b[39m\u001b[38;5;124mYou are dumb\u001b[39m\u001b[38;5;124m'\u001b[39m)\n",
      "\u001b[1;31mZeroDivisionError\u001b[0m: You are dumb"
     ]
    }
   ],
   "source": [
    "print(a + True)"
   ]
  },
  {
   "cell_type": "code",
   "execution_count": 165,
   "id": "c9186aac",
   "metadata": {},
   "outputs": [
    {
     "ename": "ZeroDivisionError",
     "evalue": "You are dumb",
     "output_type": "error",
     "traceback": [
      "\u001b[1;31m---------------------------------------------------------------------------\u001b[0m",
      "\u001b[1;31mZeroDivisionError\u001b[0m                         Traceback (most recent call last)",
      "Cell \u001b[1;32mIn[165], line 1\u001b[0m\n\u001b[1;32m----> 1\u001b[0m \u001b[38;5;28mprint\u001b[39m(\u001b[43ma\u001b[49m\u001b[43m \u001b[49m\u001b[38;5;241;43m-\u001b[39;49m\u001b[43m \u001b[49m\u001b[38;5;124;43m'\u001b[39;49m\u001b[38;5;124;43mlmn\u001b[39;49m\u001b[38;5;124;43m'\u001b[39;49m)\n",
      "Cell \u001b[1;32mIn[156], line 27\u001b[0m, in \u001b[0;36mcustom_dtype.__sub__\u001b[1;34m(self, other)\u001b[0m\n\u001b[0;32m     25\u001b[0m     \u001b[38;5;28;01mreturn\u001b[39;00m \u001b[38;5;28mself\u001b[39m\u001b[38;5;241m.\u001b[39mvalue \u001b[38;5;241m-\u001b[39m other\u001b[38;5;241m.\u001b[39mvalue\n\u001b[0;32m     26\u001b[0m \u001b[38;5;28;01melif\u001b[39;00m (\u001b[38;5;28mtype\u001b[39m(other) \u001b[38;5;241m==\u001b[39m \u001b[38;5;28mstr\u001b[39m):\n\u001b[1;32m---> 27\u001b[0m     \u001b[38;5;28;01mraise\u001b[39;00m \u001b[38;5;167;01mZeroDivisionError\u001b[39;00m(\u001b[38;5;124m'\u001b[39m\u001b[38;5;124mYou are dumb\u001b[39m\u001b[38;5;124m'\u001b[39m)\n",
      "\u001b[1;31mZeroDivisionError\u001b[0m: You are dumb"
     ]
    }
   ],
   "source": [
    "print(a - 'lmn')"
   ]
  },
  {
   "cell_type": "code",
   "execution_count": 166,
   "id": "f7456b48",
   "metadata": {},
   "outputs": [
    {
     "name": "stdout",
     "output_type": "stream",
     "text": [
      "20\n",
      "30\n",
      "40\n",
      "60\n",
      "90\n",
      "90\n"
     ]
    }
   ],
   "source": [
    "print(a + a + a + a + 20 + 30)"
   ]
  },
  {
   "cell_type": "code",
   "execution_count": 167,
   "id": "daaaae13",
   "metadata": {
    "scrolled": true
   },
   "outputs": [
    {
     "name": "stdout",
     "output_type": "stream",
     "text": [
      "0\n"
     ]
    },
    {
     "data": {
      "text/plain": [
       "0"
      ]
     },
     "execution_count": 167,
     "metadata": {},
     "output_type": "execute_result"
    }
   ],
   "source": [
    "a - 10"
   ]
  },
  {
   "cell_type": "code",
   "execution_count": 169,
   "id": "efb8755f",
   "metadata": {},
   "outputs": [
    {
     "data": {
      "text/plain": [
       "'10'"
      ]
     },
     "execution_count": 169,
     "metadata": {},
     "output_type": "execute_result"
    }
   ],
   "source": [
    "str(a)"
   ]
  },
  {
   "cell_type": "code",
   "execution_count": null,
   "id": "913a0358",
   "metadata": {},
   "outputs": [],
   "source": []
  }
 ],
 "metadata": {
  "kernelspec": {
   "display_name": "Python 3 (ipykernel)",
   "language": "python",
   "name": "python3"
  },
  "language_info": {
   "codemirror_mode": {
    "name": "ipython",
    "version": 3
   },
   "file_extension": ".py",
   "mimetype": "text/x-python",
   "name": "python",
   "nbconvert_exporter": "python",
   "pygments_lexer": "ipython3",
   "version": "3.8.10"
  }
 },
 "nbformat": 4,
 "nbformat_minor": 5
}
