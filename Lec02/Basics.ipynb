{
 "cells": [
  {
   "cell_type": "code",
   "execution_count": 14,
   "id": "9b1751ec",
   "metadata": {},
   "outputs": [],
   "source": [
    "var1 = \"Abhijeet\"\n",
    "var2 = \"Abhijeet\""
   ]
  },
  {
   "cell_type": "code",
   "execution_count": 15,
   "id": "e5ad6a56",
   "metadata": {},
   "outputs": [
    {
     "name": "stdout",
     "output_type": "stream",
     "text": [
      "1961380943600 1961380943600\n"
     ]
    }
   ],
   "source": [
    "print(id(var1), id(var2))"
   ]
  },
  {
   "cell_type": "code",
   "execution_count": 19,
   "id": "868dfced",
   "metadata": {},
   "outputs": [
    {
     "data": {
      "text/plain": [
       "65"
      ]
     },
     "execution_count": 19,
     "metadata": {},
     "output_type": "execute_result"
    }
   ],
   "source": [
    "ord('A')"
   ]
  },
  {
   "cell_type": "code",
   "execution_count": 37,
   "id": "840cc782",
   "metadata": {},
   "outputs": [
    {
     "data": {
      "text/plain": [
       "'\\U0010ffff'"
      ]
     },
     "execution_count": 37,
     "metadata": {},
     "output_type": "execute_result"
    }
   ],
   "source": [
    "chr(1114111)"
   ]
  },
  {
   "cell_type": "code",
   "execution_count": 38,
   "id": "86fc4aa8",
   "metadata": {},
   "outputs": [],
   "source": [
    "# Functions"
   ]
  },
  {
   "cell_type": "code",
   "execution_count": 52,
   "id": "c28a1978",
   "metadata": {},
   "outputs": [],
   "source": [
    "def hello_world():\n",
    "    print('Hello World!')"
   ]
  },
  {
   "cell_type": "code",
   "execution_count": 53,
   "id": "0531ccc3",
   "metadata": {},
   "outputs": [
    {
     "name": "stdout",
     "output_type": "stream",
     "text": [
      "Hello World!\n"
     ]
    }
   ],
   "source": [
    "hello_world()"
   ]
  },
  {
   "cell_type": "code",
   "execution_count": 60,
   "id": "457adf03",
   "metadata": {},
   "outputs": [],
   "source": [
    "def addition(a, b, var1, var2):\n",
    "    print(a + b + var1 + var2)\n",
    "    print(id(a), id(b))"
   ]
  },
  {
   "cell_type": "code",
   "execution_count": 61,
   "id": "f9aa697e",
   "metadata": {},
   "outputs": [
    {
     "name": "stdout",
     "output_type": "stream",
     "text": [
      "140716341991472 140716341991792\n",
      "140\n",
      "140716341991472 140716341991792\n"
     ]
    }
   ],
   "source": [
    "c = 10\n",
    "d = 20\n",
    "print(id(c), id(d))\n",
    "addition(c, d, 60, 50)"
   ]
  },
  {
   "cell_type": "code",
   "execution_count": 63,
   "id": "1174d9f8",
   "metadata": {},
   "outputs": [],
   "source": [
    "def abhijeet():\n",
    "    print(name)"
   ]
  },
  {
   "cell_type": "code",
   "execution_count": 64,
   "id": "c7737f16",
   "metadata": {},
   "outputs": [
    {
     "name": "stdout",
     "output_type": "stream",
     "text": [
      "<function abhijeet at 0x000001C8AC9883A0>\n"
     ]
    }
   ],
   "source": [
    "print(abhijeet)"
   ]
  },
  {
   "cell_type": "code",
   "execution_count": 66,
   "id": "7d06c665",
   "metadata": {},
   "outputs": [
    {
     "name": "stdout",
     "output_type": "stream",
     "text": [
      "<class 'type'>\n"
     ]
    }
   ],
   "source": [
    "print(type)"
   ]
  },
  {
   "cell_type": "code",
   "execution_count": 67,
   "id": "9b9e5ff5",
   "metadata": {},
   "outputs": [
    {
     "ename": "NameError",
     "evalue": "name 'name' is not defined",
     "output_type": "error",
     "traceback": [
      "\u001b[1;31m---------------------------------------------------------------------------\u001b[0m",
      "\u001b[1;31mNameError\u001b[0m                                 Traceback (most recent call last)",
      "Cell \u001b[1;32mIn[67], line 1\u001b[0m\n\u001b[1;32m----> 1\u001b[0m \u001b[43mabhijeet\u001b[49m\u001b[43m(\u001b[49m\u001b[43m)\u001b[49m\n",
      "Cell \u001b[1;32mIn[63], line 2\u001b[0m, in \u001b[0;36mabhijeet\u001b[1;34m()\u001b[0m\n\u001b[0;32m      1\u001b[0m \u001b[38;5;28;01mdef\u001b[39;00m \u001b[38;5;21mabhijeet\u001b[39m():\n\u001b[1;32m----> 2\u001b[0m     \u001b[38;5;28mprint\u001b[39m(\u001b[43mname\u001b[49m)\n",
      "\u001b[1;31mNameError\u001b[0m: name 'name' is not defined"
     ]
    }
   ],
   "source": [
    "abhijeet()"
   ]
  },
  {
   "cell_type": "code",
   "execution_count": 72,
   "id": "6817d1a1",
   "metadata": {},
   "outputs": [],
   "source": [
    "def lower_upper(s):\n",
    "    print(chr(ord(s) - (ord('a') - ord('A'))))"
   ]
  },
  {
   "cell_type": "code",
   "execution_count": 73,
   "id": "8f3db569",
   "metadata": {},
   "outputs": [
    {
     "name": "stdout",
     "output_type": "stream",
     "text": [
      "S\n"
     ]
    }
   ],
   "source": [
    "lower_upper('s')"
   ]
  },
  {
   "cell_type": "code",
   "execution_count": 78,
   "id": "b8a78382",
   "metadata": {},
   "outputs": [],
   "source": [
    "def upper_lower(s):\n",
    "    print(chr(ord(s) + (ord('a') - ord('A'))))"
   ]
  },
  {
   "cell_type": "code",
   "execution_count": 79,
   "id": "6a139453",
   "metadata": {},
   "outputs": [
    {
     "name": "stdout",
     "output_type": "stream",
     "text": [
      "d\n"
     ]
    }
   ],
   "source": [
    "upper_lower('D')"
   ]
  },
  {
   "cell_type": "code",
   "execution_count": 82,
   "id": "39018031",
   "metadata": {},
   "outputs": [],
   "source": [
    "def multiply(a, b):\n",
    "    return a * b, a, b"
   ]
  },
  {
   "cell_type": "code",
   "execution_count": 97,
   "id": "0e2312b9",
   "metadata": {},
   "outputs": [],
   "source": [
    "a, b, c = multiply(20, 10)"
   ]
  },
  {
   "cell_type": "code",
   "execution_count": 98,
   "id": "c15f43cc",
   "metadata": {},
   "outputs": [
    {
     "data": {
      "text/plain": [
       "2000"
      ]
     },
     "execution_count": 98,
     "metadata": {},
     "output_type": "execute_result"
    }
   ],
   "source": [
    "a * 10"
   ]
  },
  {
   "cell_type": "code",
   "execution_count": 100,
   "id": "e9e49508",
   "metadata": {},
   "outputs": [
    {
     "data": {
      "text/plain": [
       "10"
      ]
     },
     "execution_count": 100,
     "metadata": {},
     "output_type": "execute_result"
    }
   ],
   "source": [
    "c"
   ]
  },
  {
   "cell_type": "code",
   "execution_count": 105,
   "id": "119b3dd8",
   "metadata": {},
   "outputs": [],
   "source": [
    "# Operators"
   ]
  },
  {
   "cell_type": "code",
   "execution_count": 106,
   "id": "5dea98ed",
   "metadata": {},
   "outputs": [],
   "source": [
    "var = 10"
   ]
  },
  {
   "cell_type": "code",
   "execution_count": 107,
   "id": "f4bbb040",
   "metadata": {},
   "outputs": [
    {
     "name": "stdout",
     "output_type": "stream",
     "text": [
      "15\n",
      "5\n",
      "50\n",
      "2.0\n"
     ]
    }
   ],
   "source": [
    "print(var + 5)\n",
    "print(var - 5)\n",
    "print(var * 5)\n",
    "print(var / 5)"
   ]
  },
  {
   "cell_type": "code",
   "execution_count": 112,
   "id": "9eec736c",
   "metadata": {},
   "outputs": [
    {
     "data": {
      "text/plain": [
       "0"
      ]
     },
     "execution_count": 112,
     "metadata": {},
     "output_type": "execute_result"
    }
   ],
   "source": [
    "var % 2 # Remainder"
   ]
  },
  {
   "cell_type": "code",
   "execution_count": 113,
   "id": "bcd20835",
   "metadata": {},
   "outputs": [
    {
     "data": {
      "text/plain": [
       "1000"
      ]
     },
     "execution_count": 113,
     "metadata": {},
     "output_type": "execute_result"
    }
   ],
   "source": [
    "var**3 # Raise to power"
   ]
  },
  {
   "cell_type": "code",
   "execution_count": 116,
   "id": "baf10e9b",
   "metadata": {},
   "outputs": [
    {
     "data": {
      "text/plain": [
       "3"
      ]
     },
     "execution_count": 116,
     "metadata": {},
     "output_type": "execute_result"
    }
   ],
   "source": [
    "var//3 # Int part of questient"
   ]
  },
  {
   "cell_type": "code",
   "execution_count": 118,
   "id": "ef86c4cd",
   "metadata": {},
   "outputs": [],
   "source": [
    "# Logical Operators"
   ]
  },
  {
   "cell_type": "code",
   "execution_count": 122,
   "id": "e683a73c",
   "metadata": {},
   "outputs": [
    {
     "data": {
      "text/plain": [
       "False"
      ]
     },
     "execution_count": 122,
     "metadata": {},
     "output_type": "execute_result"
    }
   ],
   "source": [
    "var == 2"
   ]
  },
  {
   "cell_type": "code",
   "execution_count": 124,
   "id": "68a0e205",
   "metadata": {},
   "outputs": [
    {
     "data": {
      "text/plain": [
       "False"
      ]
     },
     "execution_count": 124,
     "metadata": {},
     "output_type": "execute_result"
    }
   ],
   "source": [
    "var != 10"
   ]
  },
  {
   "cell_type": "code",
   "execution_count": 125,
   "id": "9fc957ed",
   "metadata": {},
   "outputs": [
    {
     "data": {
      "text/plain": [
       "True"
      ]
     },
     "execution_count": 125,
     "metadata": {},
     "output_type": "execute_result"
    }
   ],
   "source": [
    "var > 5"
   ]
  },
  {
   "cell_type": "code",
   "execution_count": 126,
   "id": "9eb149db",
   "metadata": {},
   "outputs": [
    {
     "data": {
      "text/plain": [
       "True"
      ]
     },
     "execution_count": 126,
     "metadata": {},
     "output_type": "execute_result"
    }
   ],
   "source": [
    "var<20"
   ]
  },
  {
   "cell_type": "code",
   "execution_count": 127,
   "id": "5422ce1a",
   "metadata": {},
   "outputs": [
    {
     "data": {
      "text/plain": [
       "True"
      ]
     },
     "execution_count": 127,
     "metadata": {},
     "output_type": "execute_result"
    }
   ],
   "source": [
    "var >= 10"
   ]
  },
  {
   "cell_type": "code",
   "execution_count": 128,
   "id": "1dad5535",
   "metadata": {},
   "outputs": [
    {
     "data": {
      "text/plain": [
       "False"
      ]
     },
     "execution_count": 128,
     "metadata": {},
     "output_type": "execute_result"
    }
   ],
   "source": [
    "var<=6"
   ]
  },
  {
   "cell_type": "code",
   "execution_count": 129,
   "id": "b7bd4ee7",
   "metadata": {},
   "outputs": [],
   "source": [
    "# Conditional Statements\n",
    "# If\n",
    "# Else\n",
    "# Elif"
   ]
  },
  {
   "cell_type": "code",
   "execution_count": 143,
   "id": "8294bc4f",
   "metadata": {},
   "outputs": [],
   "source": [
    "var = 10"
   ]
  },
  {
   "cell_type": "code",
   "execution_count": 145,
   "id": "478193bf",
   "metadata": {},
   "outputs": [
    {
     "name": "stdout",
     "output_type": "stream",
     "text": [
      "Var = 10\n"
     ]
    }
   ],
   "source": [
    "if (var == 10):\n",
    "    print('Var = 10')\n",
    "elif (var < 10):\n",
    "    print('Value less than 10')\n",
    "else:\n",
    "    print('Value greater than 10')"
   ]
  },
  {
   "cell_type": "code",
   "execution_count": 149,
   "id": "da0302a7",
   "metadata": {},
   "outputs": [
    {
     "name": "stdout",
     "output_type": "stream",
     "text": [
      "Input Marks99\n",
      "A\n"
     ]
    }
   ],
   "source": [
    "marks = int(input('Input Marks'))\n",
    "\n",
    "if marks >= 90:\n",
    "    print('A')\n",
    "elif marks >= 80:\n",
    "    print('B')\n",
    "elif marks >= 70:\n",
    "    print('C')\n",
    "elif marks >= 60:\n",
    "    print('D')\n",
    "elif marks >= 50:\n",
    "    print('E')\n",
    "else:\n",
    "    print('F')"
   ]
  },
  {
   "cell_type": "code",
   "execution_count": null,
   "id": "9dffb95e",
   "metadata": {},
   "outputs": [],
   "source": []
  }
 ],
 "metadata": {
  "kernelspec": {
   "display_name": "Python 3 (ipykernel)",
   "language": "python",
   "name": "python3"
  },
  "language_info": {
   "codemirror_mode": {
    "name": "ipython",
    "version": 3
   },
   "file_extension": ".py",
   "mimetype": "text/x-python",
   "name": "python",
   "nbconvert_exporter": "python",
   "pygments_lexer": "ipython3",
   "version": "3.8.10"
  }
 },
 "nbformat": 4,
 "nbformat_minor": 5
}
