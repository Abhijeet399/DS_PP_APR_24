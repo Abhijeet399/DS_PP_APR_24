{
 "cells": [
  {
   "cell_type": "code",
   "execution_count": 1,
   "id": "db2014eb",
   "metadata": {},
   "outputs": [],
   "source": [
    "# Python Basics"
   ]
  },
  {
   "cell_type": "code",
   "execution_count": 2,
   "id": "25eb9786",
   "metadata": {},
   "outputs": [],
   "source": [
    "var = 200"
   ]
  },
  {
   "cell_type": "code",
   "execution_count": 3,
   "id": "8788a279",
   "metadata": {},
   "outputs": [],
   "source": [
    "var = 100"
   ]
  },
  {
   "cell_type": "code",
   "execution_count": 4,
   "id": "4e3bf056",
   "metadata": {},
   "outputs": [
    {
     "data": {
      "text/plain": [
       "100"
      ]
     },
     "execution_count": 4,
     "metadata": {},
     "output_type": "execute_result"
    }
   ],
   "source": [
    "var"
   ]
  },
  {
   "cell_type": "code",
   "execution_count": 5,
   "id": "ba9b307a",
   "metadata": {},
   "outputs": [],
   "source": [
    "var = 0"
   ]
  },
  {
   "cell_type": "code",
   "execution_count": 6,
   "id": "9030b265",
   "metadata": {},
   "outputs": [
    {
     "data": {
      "text/plain": [
       "0"
      ]
     },
     "execution_count": 6,
     "metadata": {},
     "output_type": "execute_result"
    }
   ],
   "source": [
    "var"
   ]
  },
  {
   "cell_type": "code",
   "execution_count": 7,
   "id": "55601e6d",
   "metadata": {},
   "outputs": [
    {
     "name": "stdout",
     "output_type": "stream",
     "text": [
      "1024\n"
     ]
    }
   ],
   "source": [
    "var = 1024\n",
    "print(var)"
   ]
  },
  {
   "cell_type": "code",
   "execution_count": 8,
   "id": "21145734",
   "metadata": {},
   "outputs": [],
   "source": [
    "# Numbers with -inf to +inf (without decimal points) ---> integers"
   ]
  },
  {
   "cell_type": "code",
   "execution_count": 9,
   "id": "55ba0718",
   "metadata": {},
   "outputs": [],
   "source": [
    "var = 123.2"
   ]
  },
  {
   "cell_type": "code",
   "execution_count": 10,
   "id": "cbf74832",
   "metadata": {},
   "outputs": [
    {
     "data": {
      "text/plain": [
       "123.2"
      ]
     },
     "execution_count": 10,
     "metadata": {},
     "output_type": "execute_result"
    }
   ],
   "source": [
    "var"
   ]
  },
  {
   "cell_type": "code",
   "execution_count": 11,
   "id": "06c47605",
   "metadata": {},
   "outputs": [
    {
     "name": "stdout",
     "output_type": "stream",
     "text": [
      "123.2\n"
     ]
    }
   ],
   "source": [
    "print(var)"
   ]
  },
  {
   "cell_type": "code",
   "execution_count": 12,
   "id": "a154c4ee",
   "metadata": {},
   "outputs": [],
   "source": [
    "var = \"123\"\n",
    "var1 = '1\"@%$2\"3'"
   ]
  },
  {
   "cell_type": "code",
   "execution_count": 13,
   "id": "67f3458c",
   "metadata": {},
   "outputs": [
    {
     "name": "stdout",
     "output_type": "stream",
     "text": [
      "123 hello 1\"@%$2\"3\n"
     ]
    }
   ],
   "source": [
    "print(var, \"hello\", var1)"
   ]
  },
  {
   "cell_type": "code",
   "execution_count": 14,
   "id": "e131c30b",
   "metadata": {},
   "outputs": [
    {
     "data": {
      "text/plain": [
       "'Hello my name is Abhijeet'"
      ]
     },
     "execution_count": 14,
     "metadata": {},
     "output_type": "execute_result"
    }
   ],
   "source": [
    "120.02\n",
    "\"h\"\n",
    "\"Hello my name is Abhijeet\""
   ]
  },
  {
   "cell_type": "code",
   "execution_count": 15,
   "id": "de6b7c42",
   "metadata": {},
   "outputs": [
    {
     "name": "stdout",
     "output_type": "stream",
     "text": [
      "'\n"
     ]
    }
   ],
   "source": [
    "var = \"'\"\n",
    "print(var)"
   ]
  },
  {
   "cell_type": "code",
   "execution_count": 16,
   "id": "20411413",
   "metadata": {},
   "outputs": [],
   "source": [
    "var = -123.02"
   ]
  },
  {
   "cell_type": "code",
   "execution_count": 17,
   "id": "20fa3b96",
   "metadata": {
    "scrolled": true
   },
   "outputs": [
    {
     "name": "stdout",
     "output_type": "stream",
     "text": [
      "var\n"
     ]
    }
   ],
   "source": [
    "print(\"var\")"
   ]
  },
  {
   "cell_type": "code",
   "execution_count": 18,
   "id": "f298d848",
   "metadata": {},
   "outputs": [
    {
     "data": {
      "text/plain": [
       "-123.02"
      ]
     },
     "execution_count": 18,
     "metadata": {},
     "output_type": "execute_result"
    }
   ],
   "source": [
    "var"
   ]
  },
  {
   "cell_type": "code",
   "execution_count": 19,
   "id": "ad4e0435",
   "metadata": {},
   "outputs": [],
   "source": [
    "boolean = True"
   ]
  },
  {
   "cell_type": "code",
   "execution_count": 20,
   "id": "79178041",
   "metadata": {},
   "outputs": [],
   "source": [
    "boolean = False"
   ]
  },
  {
   "cell_type": "code",
   "execution_count": 21,
   "id": "00638d8c",
   "metadata": {},
   "outputs": [
    {
     "name": "stdout",
     "output_type": "stream",
     "text": [
      "123 Hello -123.02\n"
     ]
    }
   ],
   "source": [
    "print(123, \"Hello\", var)"
   ]
  },
  {
   "cell_type": "code",
   "execution_count": 42,
   "id": "ea4caed7",
   "metadata": {},
   "outputs": [
    {
     "name": "stdout",
     "output_type": "stream",
     "text": [
      "<class 'float'>\n",
      "<class 'str'>\n"
     ]
    }
   ],
   "source": [
    "print(type(var))\n",
    "print(type(\"123\"))"
   ]
  },
  {
   "cell_type": "code",
   "execution_count": 23,
   "id": "ca9ff904",
   "metadata": {},
   "outputs": [
    {
     "data": {
      "text/plain": [
       "1607820417232"
      ]
     },
     "execution_count": 23,
     "metadata": {},
     "output_type": "execute_result"
    }
   ],
   "source": [
    "id(var)"
   ]
  },
  {
   "cell_type": "code",
   "execution_count": 73,
   "id": "92d69c3b",
   "metadata": {},
   "outputs": [],
   "source": [
    "var1 = -5\n",
    "var2 = -5"
   ]
  },
  {
   "cell_type": "code",
   "execution_count": 74,
   "id": "5445f2ae",
   "metadata": {},
   "outputs": [
    {
     "name": "stdout",
     "output_type": "stream",
     "text": [
      "1607820417232\n",
      "140716341990992 140716341990992\n"
     ]
    }
   ],
   "source": [
    "print(id(var))\n",
    "print(id(var1), id(var2))"
   ]
  },
  {
   "cell_type": "code",
   "execution_count": 26,
   "id": "fcb8f997",
   "metadata": {},
   "outputs": [
    {
     "name": "stdout",
     "output_type": "stream",
     "text": [
      "11\n"
     ]
    }
   ],
   "source": [
    "print(1 + 10)"
   ]
  },
  {
   "cell_type": "code",
   "execution_count": 27,
   "id": "e80181f6",
   "metadata": {},
   "outputs": [
    {
     "name": "stdout",
     "output_type": "stream",
     "text": [
      "110\n"
     ]
    }
   ],
   "source": [
    "print('1' + '10')"
   ]
  },
  {
   "cell_type": "code",
   "execution_count": 28,
   "id": "58e44670",
   "metadata": {},
   "outputs": [
    {
     "name": "stdout",
     "output_type": "stream",
     "text": [
      "11.23\n"
     ]
    }
   ],
   "source": [
    "print(1.23 + 10)"
   ]
  },
  {
   "cell_type": "code",
   "execution_count": 29,
   "id": "23e0300f",
   "metadata": {},
   "outputs": [
    {
     "name": "stdout",
     "output_type": "stream",
     "text": [
      "3\n"
     ]
    }
   ],
   "source": [
    "print(True + 2)"
   ]
  },
  {
   "cell_type": "code",
   "execution_count": 30,
   "id": "9cdb221d",
   "metadata": {},
   "outputs": [
    {
     "name": "stdout",
     "output_type": "stream",
     "text": [
      "<class 'int'>\n"
     ]
    }
   ],
   "source": [
    "print(type(10))"
   ]
  },
  {
   "cell_type": "code",
   "execution_count": 31,
   "id": "b7ef5683",
   "metadata": {},
   "outputs": [
    {
     "name": "stdout",
     "output_type": "stream",
     "text": [
      "1\n"
     ]
    }
   ],
   "source": [
    "print(2 - 1)"
   ]
  },
  {
   "cell_type": "code",
   "execution_count": 32,
   "id": "69e55e22",
   "metadata": {},
   "outputs": [
    {
     "name": "stdout",
     "output_type": "stream",
     "text": [
      "0\n"
     ]
    }
   ],
   "source": [
    "print(True - 1)"
   ]
  },
  {
   "cell_type": "code",
   "execution_count": 33,
   "id": "806b0a23",
   "metadata": {},
   "outputs": [
    {
     "name": "stdout",
     "output_type": "stream",
     "text": [
      "strstrstrstrstr\n"
     ]
    }
   ],
   "source": [
    "print('str' * 5)"
   ]
  },
  {
   "cell_type": "code",
   "execution_count": 34,
   "id": "1ed7298b",
   "metadata": {},
   "outputs": [
    {
     "name": "stdout",
     "output_type": "stream",
     "text": [
      "5.0\n"
     ]
    }
   ],
   "source": [
    "print(10/2)"
   ]
  },
  {
   "cell_type": "code",
   "execution_count": 35,
   "id": "c7eca743",
   "metadata": {},
   "outputs": [
    {
     "name": "stdout",
     "output_type": "stream",
     "text": [
      "123\n"
     ]
    }
   ],
   "source": [
    "print(int(123.77))"
   ]
  },
  {
   "cell_type": "code",
   "execution_count": 36,
   "id": "b5a74e10",
   "metadata": {},
   "outputs": [
    {
     "data": {
      "text/plain": [
       "int"
      ]
     },
     "execution_count": 36,
     "metadata": {},
     "output_type": "execute_result"
    }
   ],
   "source": [
    "type(int('123'))"
   ]
  },
  {
   "cell_type": "code",
   "execution_count": 37,
   "id": "fd36d257",
   "metadata": {},
   "outputs": [
    {
     "data": {
      "text/plain": [
       "'1234'"
      ]
     },
     "execution_count": 37,
     "metadata": {},
     "output_type": "execute_result"
    }
   ],
   "source": [
    "str(1234)"
   ]
  },
  {
   "cell_type": "code",
   "execution_count": 38,
   "id": "43e12f0a",
   "metadata": {},
   "outputs": [
    {
     "data": {
      "text/plain": [
       "False"
      ]
     },
     "execution_count": 38,
     "metadata": {},
     "output_type": "execute_result"
    }
   ],
   "source": [
    "bool(0)"
   ]
  },
  {
   "cell_type": "code",
   "execution_count": 39,
   "id": "a3ca540c",
   "metadata": {},
   "outputs": [
    {
     "name": "stdout",
     "output_type": "stream",
     "text": [
      "<class 'float'>\n"
     ]
    },
    {
     "data": {
      "text/plain": [
       "'-123.02'"
      ]
     },
     "execution_count": 39,
     "metadata": {},
     "output_type": "execute_result"
    }
   ],
   "source": [
    "print(type(var))\n",
    "str(var)"
   ]
  },
  {
   "cell_type": "code",
   "execution_count": 40,
   "id": "42aa681b",
   "metadata": {},
   "outputs": [
    {
     "name": "stdout",
     "output_type": "stream",
     "text": [
      "-123.02Abhijeet1000Abhijeet1000HelloMy name is Abhijeet\n"
     ]
    }
   ],
   "source": [
    "print(var, var1, var2, sep = 'Abhijeet', end = 'Hello')\n",
    "print('My name is Abhijeet')"
   ]
  },
  {
   "cell_type": "code",
   "execution_count": null,
   "id": "b327856d",
   "metadata": {},
   "outputs": [],
   "source": []
  },
  {
   "cell_type": "code",
   "execution_count": null,
   "id": "7b18f889",
   "metadata": {},
   "outputs": [],
   "source": []
  }
 ],
 "metadata": {
  "kernelspec": {
   "display_name": "Python 3 (ipykernel)",
   "language": "python",
   "name": "python3"
  },
  "language_info": {
   "codemirror_mode": {
    "name": "ipython",
    "version": 3
   },
   "file_extension": ".py",
   "mimetype": "text/x-python",
   "name": "python",
   "nbconvert_exporter": "python",
   "pygments_lexer": "ipython3",
   "version": "3.8.10"
  }
 },
 "nbformat": 4,
 "nbformat_minor": 5
}
