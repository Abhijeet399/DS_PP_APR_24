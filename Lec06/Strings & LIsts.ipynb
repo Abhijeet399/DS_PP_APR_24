{
 "cells": [
  {
   "cell_type": "code",
   "execution_count": 83,
   "id": "2bf9f91b",
   "metadata": {},
   "outputs": [],
   "source": [
    "string = '    The sky is blue           '"
   ]
  },
  {
   "cell_type": "code",
   "execution_count": 84,
   "id": "21898964",
   "metadata": {},
   "outputs": [
    {
     "data": {
      "text/plain": [
       "' '"
      ]
     },
     "execution_count": 84,
     "metadata": {},
     "output_type": "execute_result"
    }
   ],
   "source": [
    "string[-1]"
   ]
  },
  {
   "cell_type": "code",
   "execution_count": 85,
   "id": "b13e7137",
   "metadata": {},
   "outputs": [
    {
     "name": "stdout",
     "output_type": "stream",
     "text": [
      "30\n"
     ]
    }
   ],
   "source": [
    "length = 0\n",
    "\n",
    "for i in string:\n",
    "    length += 1\n",
    "print(length)"
   ]
  },
  {
   "cell_type": "code",
   "execution_count": 86,
   "id": "3cfe1b8d",
   "metadata": {},
   "outputs": [
    {
     "name": "stdout",
     "output_type": "stream",
     "text": [
      "  0   29\n"
     ]
    }
   ],
   "source": [
    "string = '    The sky is blue           '\n",
    "\n",
    "i = 0\n",
    "j = length - 1\n",
    "\n",
    "print(string[i], i, string[j], j)\n",
    "\n",
    "flag_i = False\n",
    "flag_j = False\n",
    "\n",
    "\n",
    "while (i <= j):\n",
    "    if (string[i] == ' '):\n",
    "        i += 1\n",
    "    else:\n",
    "        flag_i = True\n",
    "    if (string[j] == ' '):\n",
    "        j -= 1\n",
    "    else:\n",
    "        flag_j = True\n",
    "    if (flag_i == True) and (flag_j == True):\n",
    "        break"
   ]
  },
  {
   "cell_type": "code",
   "execution_count": 87,
   "id": "b26eda4b",
   "metadata": {},
   "outputs": [
    {
     "name": "stdout",
     "output_type": "stream",
     "text": [
      "4 18\n",
      "The sky is blue"
     ]
    }
   ],
   "source": [
    "print(i, j)\n",
    "for s in range(i, j + 1):\n",
    "    print(string[s], end='')"
   ]
  },
  {
   "cell_type": "code",
   "execution_count": 88,
   "id": "400c2a4b",
   "metadata": {},
   "outputs": [],
   "source": [
    "string = 'Hello_my_name_is_Abhijeet'"
   ]
  },
  {
   "cell_type": "code",
   "execution_count": 89,
   "id": "50a09e79",
   "metadata": {},
   "outputs": [
    {
     "name": "stdout",
     "output_type": "stream",
     "text": [
      "['hello_my_n', 'me_is_', 'bhijeet']\n"
     ]
    }
   ],
   "source": [
    "print(string.lower().split('a'))"
   ]
  },
  {
   "cell_type": "code",
   "execution_count": 90,
   "id": "2728e7ef",
   "metadata": {},
   "outputs": [],
   "source": [
    "string.split?"
   ]
  },
  {
   "cell_type": "code",
   "execution_count": 91,
   "id": "fc178ce0",
   "metadata": {},
   "outputs": [],
   "source": [
    "# Slicing"
   ]
  },
  {
   "cell_type": "code",
   "execution_count": 92,
   "id": "6cda7a1e",
   "metadata": {},
   "outputs": [
    {
     "data": {
      "text/plain": [
       "'lo_my_na'"
      ]
     },
     "execution_count": 92,
     "metadata": {},
     "output_type": "execute_result"
    }
   ],
   "source": [
    "string[3 : 11]"
   ]
  },
  {
   "cell_type": "code",
   "execution_count": 93,
   "id": "6e1c8fd6",
   "metadata": {},
   "outputs": [
    {
     "data": {
      "text/plain": [
       "'_my_name_is_Abhij'"
      ]
     },
     "execution_count": 93,
     "metadata": {},
     "output_type": "execute_result"
    }
   ],
   "source": [
    "string[5 : -3]"
   ]
  },
  {
   "cell_type": "code",
   "execution_count": 94,
   "id": "2422177d",
   "metadata": {},
   "outputs": [],
   "source": [
    "def palin(string):\n",
    "    for i in range(int(len(string)/2)):\n",
    "        if (string[i] != string[len(string) - 1 - i]):\n",
    "            return False\n",
    "    return True"
   ]
  },
  {
   "cell_type": "code",
   "execution_count": 95,
   "id": "ef9158ba",
   "metadata": {},
   "outputs": [
    {
     "data": {
      "text/plain": [
       "True"
      ]
     },
     "execution_count": 95,
     "metadata": {},
     "output_type": "execute_result"
    }
   ],
   "source": [
    "palin('malayalam')"
   ]
  },
  {
   "cell_type": "code",
   "execution_count": 96,
   "id": "376d2e95",
   "metadata": {},
   "outputs": [],
   "source": [
    "# Lists"
   ]
  },
  {
   "cell_type": "code",
   "execution_count": 97,
   "id": "dec8d1e3",
   "metadata": {},
   "outputs": [],
   "source": [
    "name = ['Abhijeet', 'abcd', 'xyz', 'pqr', 'lmn']"
   ]
  },
  {
   "cell_type": "code",
   "execution_count": 98,
   "id": "02dc5ae4",
   "metadata": {},
   "outputs": [
    {
     "name": "stdout",
     "output_type": "stream",
     "text": [
      "<class 'list'>\n"
     ]
    }
   ],
   "source": [
    "print(type(name))"
   ]
  },
  {
   "cell_type": "code",
   "execution_count": 99,
   "id": "15aa5588",
   "metadata": {},
   "outputs": [
    {
     "name": "stdout",
     "output_type": "stream",
     "text": [
      "<class 'int'>\n"
     ]
    }
   ],
   "source": [
    "var = 10\n",
    "print(type(var))"
   ]
  },
  {
   "cell_type": "code",
   "execution_count": 100,
   "id": "c055591b",
   "metadata": {},
   "outputs": [
    {
     "data": {
      "text/plain": [
       "'lmn'"
      ]
     },
     "execution_count": 100,
     "metadata": {},
     "output_type": "execute_result"
    }
   ],
   "source": [
    "name[-1]"
   ]
  },
  {
   "cell_type": "code",
   "execution_count": 101,
   "id": "02644279",
   "metadata": {},
   "outputs": [
    {
     "name": "stdout",
     "output_type": "stream",
     "text": [
      "Abhijeet\n",
      "abcd\n",
      "xyz\n",
      "pqr\n",
      "lmn\n"
     ]
    }
   ],
   "source": [
    "for i in name:\n",
    "    print(i)"
   ]
  },
  {
   "cell_type": "code",
   "execution_count": 102,
   "id": "1242b047",
   "metadata": {},
   "outputs": [
    {
     "data": {
      "text/plain": [
       "['Abhijeet', 'abcd']"
      ]
     },
     "execution_count": 102,
     "metadata": {},
     "output_type": "execute_result"
    }
   ],
   "source": [
    "name[:2]"
   ]
  },
  {
   "cell_type": "code",
   "execution_count": 103,
   "id": "f02c6dec",
   "metadata": {},
   "outputs": [
    {
     "data": {
      "text/plain": [
       "5"
      ]
     },
     "execution_count": 103,
     "metadata": {},
     "output_type": "execute_result"
    }
   ],
   "source": [
    "len(name)"
   ]
  },
  {
   "cell_type": "code",
   "execution_count": 104,
   "id": "96aad12a",
   "metadata": {},
   "outputs": [
    {
     "name": "stdout",
     "output_type": "stream",
     "text": [
      "1863172433088\n",
      "1863171843904\n"
     ]
    }
   ],
   "source": [
    "print(id(name))\n",
    "name = ['Abhijeet', 'abcd', 'xyz', 'pqr', 'lmn', 'Hello']\n",
    "print(id(name))"
   ]
  },
  {
   "cell_type": "code",
   "execution_count": 105,
   "id": "eab342ee",
   "metadata": {},
   "outputs": [
    {
     "name": "stdout",
     "output_type": "stream",
     "text": [
      "1863171843904\n",
      "1863171843904\n"
     ]
    }
   ],
   "source": [
    "print(id(name))\n",
    "name.append('Hi')\n",
    "print(id(name))"
   ]
  },
  {
   "cell_type": "code",
   "execution_count": 106,
   "id": "dafee8e1",
   "metadata": {},
   "outputs": [
    {
     "name": "stdout",
     "output_type": "stream",
     "text": [
      "['Abhijeet', 'abcd', 'xyz', 'pqr', 'lmn', 'Hello', 'Hi', 'World']\n"
     ]
    }
   ],
   "source": [
    "name.append('World')\n",
    "print(name)"
   ]
  },
  {
   "cell_type": "code",
   "execution_count": null,
   "id": "fe9a33e0",
   "metadata": {},
   "outputs": [],
   "source": []
  },
  {
   "cell_type": "code",
   "execution_count": null,
   "id": "a91911a6",
   "metadata": {},
   "outputs": [],
   "source": []
  }
 ],
 "metadata": {
  "kernelspec": {
   "display_name": "Python 3 (ipykernel)",
   "language": "python",
   "name": "python3"
  },
  "language_info": {
   "codemirror_mode": {
    "name": "ipython",
    "version": 3
   },
   "file_extension": ".py",
   "mimetype": "text/x-python",
   "name": "python",
   "nbconvert_exporter": "python",
   "pygments_lexer": "ipython3",
   "version": "3.8.10"
  }
 },
 "nbformat": 4,
 "nbformat_minor": 5
}
