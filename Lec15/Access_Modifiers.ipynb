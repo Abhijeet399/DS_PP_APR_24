{
 "cells": [
  {
   "cell_type": "code",
   "execution_count": 144,
   "id": "be9673ce",
   "metadata": {},
   "outputs": [],
   "source": [
    "import random\n",
    "\n",
    "class Person:\n",
    "    \n",
    "    def __init__(self, name, age, email, password):\n",
    "        self.name = name\n",
    "        self._email = email\n",
    "        self.__password = password\n",
    "        self.age = age\n",
    "        self.temp = self.__password\n",
    "#         self.otp_generator()\n",
    "        \n",
    "    def details(self):\n",
    "        print(self.__password)\n",
    "        print(self.temp)\n",
    "        print(id(self.__password) == id(self.temp))\n",
    "        \n",
    "    def __otp_generator(self):\n",
    "        otp = random.randint(1000, 9999)\n",
    "        print(otp)\n",
    "        return otp\n",
    "    \n",
    "    def view_password(self):\n",
    "        gen_otp = self.__otp_generator()\n",
    "        if (input('Enter OTP') == str(gen_otp)):\n",
    "            print('Successful')\n",
    "            print(self.__password)\n",
    "        else:\n",
    "            print('OTP is wrong')"
   ]
  },
  {
   "cell_type": "code",
   "execution_count": 145,
   "id": "2e54fd44",
   "metadata": {},
   "outputs": [],
   "source": [
    "p = Person('Abhijeet', 24, 'abc@xyz.com', '12345678')\n",
    "# a = p.otp_generator()\n",
    "# if str(a) == input('Enter OTP'):\n",
    "#     print('Done')\n",
    "# else:\n",
    "#     print('Not Done')"
   ]
  },
  {
   "cell_type": "code",
   "execution_count": 146,
   "id": "d73b1182",
   "metadata": {},
   "outputs": [
    {
     "name": "stdout",
     "output_type": "stream",
     "text": [
      "12345678\n",
      "12345678\n",
      "True\n"
     ]
    }
   ],
   "source": [
    "p.details()"
   ]
  },
  {
   "cell_type": "code",
   "execution_count": 147,
   "id": "e88e171d",
   "metadata": {},
   "outputs": [
    {
     "name": "stdout",
     "output_type": "stream",
     "text": [
      "6728\n",
      "Enter OTP6728\n",
      "Successful\n",
      "12345678\n"
     ]
    }
   ],
   "source": [
    "p.view_password()"
   ]
  },
  {
   "cell_type": "code",
   "execution_count": 148,
   "id": "5c84df78",
   "metadata": {},
   "outputs": [],
   "source": [
    "# otp_generator()"
   ]
  },
  {
   "cell_type": "code",
   "execution_count": 149,
   "id": "a63da611",
   "metadata": {},
   "outputs": [
    {
     "data": {
      "text/plain": [
       "'hello i am Abhijeet'"
      ]
     },
     "execution_count": 149,
     "metadata": {},
     "output_type": "execute_result"
    }
   ],
   "source": [
    "name = 'Abhijeet'\n",
    "'hello i am ' + name"
   ]
  },
  {
   "cell_type": "code",
   "execution_count": 150,
   "id": "73b4658f",
   "metadata": {},
   "outputs": [
    {
     "data": {
      "text/plain": [
       "'hello my name is Abhijeet'"
      ]
     },
     "execution_count": 150,
     "metadata": {},
     "output_type": "execute_result"
    }
   ],
   "source": [
    "f'hello my name is {name}'"
   ]
  },
  {
   "cell_type": "code",
   "execution_count": 153,
   "id": "688d507b",
   "metadata": {},
   "outputs": [
    {
     "name": "stdout",
     "output_type": "stream",
     "text": [
      "abc@xyz.com\n",
      "123@456.com\n"
     ]
    }
   ],
   "source": [
    "print(p._email)\n",
    "p._email = '123@456.com'\n",
    "print(p._email)"
   ]
  },
  {
   "cell_type": "code",
   "execution_count": null,
   "id": "15881c6a",
   "metadata": {},
   "outputs": [],
   "source": []
  }
 ],
 "metadata": {
  "kernelspec": {
   "display_name": "Python 3 (ipykernel)",
   "language": "python",
   "name": "python3"
  },
  "language_info": {
   "codemirror_mode": {
    "name": "ipython",
    "version": 3
   },
   "file_extension": ".py",
   "mimetype": "text/x-python",
   "name": "python",
   "nbconvert_exporter": "python",
   "pygments_lexer": "ipython3",
   "version": "3.8.10"
  }
 },
 "nbformat": 4,
 "nbformat_minor": 5
}
