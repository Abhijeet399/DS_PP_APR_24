{
 "cells": [
  {
   "cell_type": "code",
   "execution_count": 1,
   "id": "9420a779",
   "metadata": {},
   "outputs": [],
   "source": [
    "# Python Basics"
   ]
  },
  {
   "cell_type": "code",
   "execution_count": 2,
   "id": "c0471bf5",
   "metadata": {},
   "outputs": [],
   "source": [
    "var = 200"
   ]
  },
  {
   "cell_type": "code",
   "execution_count": 3,
   "id": "2fb32b57",
   "metadata": {},
   "outputs": [],
   "source": [
    "var = 100"
   ]
  },
  {
   "cell_type": "code",
   "execution_count": 8,
   "id": "d5232347",
   "metadata": {},
   "outputs": [
    {
     "data": {
      "text/plain": [
       "100"
      ]
     },
     "execution_count": 8,
     "metadata": {},
     "output_type": "execute_result"
    }
   ],
   "source": [
    "var"
   ]
  },
  {
   "cell_type": "code",
   "execution_count": 9,
   "id": "91acb90a",
   "metadata": {},
   "outputs": [],
   "source": [
    "var = 0"
   ]
  },
  {
   "cell_type": "code",
   "execution_count": 10,
   "id": "3526bdaf",
   "metadata": {},
   "outputs": [
    {
     "data": {
      "text/plain": [
       "0"
      ]
     },
     "execution_count": 10,
     "metadata": {},
     "output_type": "execute_result"
    }
   ],
   "source": [
    "var"
   ]
  },
  {
   "cell_type": "code",
   "execution_count": 11,
   "id": "15c403e1",
   "metadata": {},
   "outputs": [
    {
     "name": "stdout",
     "output_type": "stream",
     "text": [
      "1024\n"
     ]
    }
   ],
   "source": [
    "var = 1024\n",
    "print(var)"
   ]
  },
  {
   "cell_type": "code",
   "execution_count": 12,
   "id": "b49c8dbf",
   "metadata": {},
   "outputs": [],
   "source": [
    "# Numbers with -inf to +inf (without decimal points) ---> int"
   ]
  },
  {
   "cell_type": "code",
   "execution_count": 13,
   "id": "8d969b3c",
   "metadata": {},
   "outputs": [],
   "source": [
    "var = 123.2"
   ]
  },
  {
   "cell_type": "code",
   "execution_count": 14,
   "id": "6f53095c",
   "metadata": {},
   "outputs": [
    {
     "data": {
      "text/plain": [
       "123.2"
      ]
     },
     "execution_count": 14,
     "metadata": {},
     "output_type": "execute_result"
    }
   ],
   "source": [
    "var"
   ]
  },
  {
   "cell_type": "code",
   "execution_count": 15,
   "id": "bfeb555f",
   "metadata": {},
   "outputs": [
    {
     "name": "stdout",
     "output_type": "stream",
     "text": [
      "123.2\n"
     ]
    }
   ],
   "source": [
    "print(var)"
   ]
  },
  {
   "cell_type": "code",
   "execution_count": 31,
   "id": "49665839",
   "metadata": {},
   "outputs": [],
   "source": [
    "var = \"123\"\n",
    "var1 = '1\"@%$2\"3'"
   ]
  },
  {
   "cell_type": "code",
   "execution_count": 32,
   "id": "aa69faf0",
   "metadata": {},
   "outputs": [
    {
     "name": "stdout",
     "output_type": "stream",
     "text": [
      "123 hello 1\"@%$2\"3\n"
     ]
    }
   ],
   "source": [
    "print(var, \"hello\", var1)"
   ]
  },
  {
   "cell_type": "code",
   "execution_count": 43,
   "id": "a8dfce23",
   "metadata": {},
   "outputs": [
    {
     "data": {
      "text/plain": [
       "'Hello my name is Abhijeet'"
      ]
     },
     "execution_count": 43,
     "metadata": {},
     "output_type": "execute_result"
    }
   ],
   "source": [
    "120.02\n",
    "\"h\"\n",
    "\"Hello my name is Abhijeet\""
   ]
  },
  {
   "cell_type": "code",
   "execution_count": 47,
   "id": "f0b2c148",
   "metadata": {},
   "outputs": [
    {
     "name": "stdout",
     "output_type": "stream",
     "text": [
      "'\n"
     ]
    }
   ],
   "source": [
    "var = \"'\"\n",
    "print(var)"
   ]
  },
  {
   "cell_type": "code",
   "execution_count": 48,
   "id": "7f11c154",
   "metadata": {},
   "outputs": [],
   "source": [
    "var = -123.02"
   ]
  },
  {
   "cell_type": "code",
   "execution_count": 49,
   "id": "e5fb893b",
   "metadata": {},
   "outputs": [
    {
     "name": "stdout",
     "output_type": "stream",
     "text": [
      "var\n"
     ]
    }
   ],
   "source": [
    "print(\"var\")"
   ]
  },
  {
   "cell_type": "code",
   "execution_count": 50,
   "id": "6659be58",
   "metadata": {},
   "outputs": [
    {
     "data": {
      "text/plain": [
       "-123.02"
      ]
     },
     "execution_count": 50,
     "metadata": {},
     "output_type": "execute_result"
    }
   ],
   "source": [
    "var"
   ]
  },
  {
   "cell_type": "code",
   "execution_count": 52,
   "id": "bed07659",
   "metadata": {},
   "outputs": [],
   "source": [
    "boolean = True"
   ]
  },
  {
   "cell_type": "code",
   "execution_count": 53,
   "id": "10eb0d4d",
   "metadata": {},
   "outputs": [],
   "source": [
    "boolean = False"
   ]
  },
  {
   "cell_type": "code",
   "execution_count": 64,
   "id": "4d1ecdbb",
   "metadata": {},
   "outputs": [
    {
     "name": "stdout",
     "output_type": "stream",
     "text": [
      "123 Hello -123.02\n"
     ]
    }
   ],
   "source": [
    "print(123, \"Hello\", var)"
   ]
  },
  {
   "cell_type": "code",
   "execution_count": 89,
   "id": "dac3fee6",
   "metadata": {},
   "outputs": [
    {
     "data": {
      "text/plain": [
       "float"
      ]
     },
     "execution_count": 89,
     "metadata": {},
     "output_type": "execute_result"
    }
   ],
   "source": [
    "type(var)"
   ]
  },
  {
   "cell_type": "code",
   "execution_count": 92,
   "id": "1155268e",
   "metadata": {},
   "outputs": [
    {
     "data": {
      "text/plain": [
       "2246509070864"
      ]
     },
     "execution_count": 92,
     "metadata": {},
     "output_type": "execute_result"
    }
   ],
   "source": [
    "id(var)"
   ]
  },
  {
   "cell_type": "code",
   "execution_count": 102,
   "id": "978388a9",
   "metadata": {},
   "outputs": [],
   "source": [
    "var1 = 1000\n",
    "var2 = 1000"
   ]
  },
  {
   "cell_type": "code",
   "execution_count": 103,
   "id": "2906258d",
   "metadata": {},
   "outputs": [
    {
     "name": "stdout",
     "output_type": "stream",
     "text": [
      "2246509070864\n",
      "2246515991824 2246515992688\n"
     ]
    }
   ],
   "source": [
    "print(id(var))\n",
    "print(id(var1), id(var2))"
   ]
  },
  {
   "cell_type": "code",
   "execution_count": 105,
   "id": "4b6ed51f",
   "metadata": {},
   "outputs": [
    {
     "name": "stdout",
     "output_type": "stream",
     "text": [
      "11\n"
     ]
    }
   ],
   "source": [
    "print(1 + 10)"
   ]
  },
  {
   "cell_type": "code",
   "execution_count": 106,
   "id": "fa0fb309",
   "metadata": {},
   "outputs": [
    {
     "name": "stdout",
     "output_type": "stream",
     "text": [
      "110\n"
     ]
    }
   ],
   "source": [
    "print('1' + '10')"
   ]
  },
  {
   "cell_type": "code",
   "execution_count": 109,
   "id": "eea672db",
   "metadata": {},
   "outputs": [
    {
     "name": "stdout",
     "output_type": "stream",
     "text": [
      "11.23\n"
     ]
    }
   ],
   "source": [
    "print(1.23 + 10)"
   ]
  },
  {
   "cell_type": "code",
   "execution_count": 112,
   "id": "d60d0240",
   "metadata": {},
   "outputs": [
    {
     "name": "stdout",
     "output_type": "stream",
     "text": [
      "3\n"
     ]
    }
   ],
   "source": [
    "print(True + 2)"
   ]
  },
  {
   "cell_type": "code",
   "execution_count": 113,
   "id": "2a93401e",
   "metadata": {},
   "outputs": [
    {
     "name": "stdout",
     "output_type": "stream",
     "text": [
      "<class 'int'>\n"
     ]
    }
   ],
   "source": [
    "print(type(10))"
   ]
  },
  {
   "cell_type": "code",
   "execution_count": 114,
   "id": "fa255410",
   "metadata": {},
   "outputs": [
    {
     "name": "stdout",
     "output_type": "stream",
     "text": [
      "1\n"
     ]
    }
   ],
   "source": [
    "print(2 - 1)"
   ]
  },
  {
   "cell_type": "code",
   "execution_count": 116,
   "id": "a3a40ce6",
   "metadata": {},
   "outputs": [
    {
     "name": "stdout",
     "output_type": "stream",
     "text": [
      "0\n"
     ]
    }
   ],
   "source": [
    "print(True - 1)"
   ]
  },
  {
   "cell_type": "code",
   "execution_count": 117,
   "id": "1ebb4769",
   "metadata": {},
   "outputs": [
    {
     "name": "stdout",
     "output_type": "stream",
     "text": [
      "strstrstrstrstr\n"
     ]
    }
   ],
   "source": [
    "print('str' * 5)"
   ]
  },
  {
   "cell_type": "code",
   "execution_count": 120,
   "id": "ae05d620",
   "metadata": {},
   "outputs": [
    {
     "name": "stdout",
     "output_type": "stream",
     "text": [
      "5.0\n"
     ]
    }
   ],
   "source": [
    "print(10/2)"
   ]
  },
  {
   "cell_type": "code",
   "execution_count": 126,
   "id": "597d367e",
   "metadata": {},
   "outputs": [
    {
     "name": "stdout",
     "output_type": "stream",
     "text": [
      "123\n"
     ]
    }
   ],
   "source": [
    "print(int(123.77))"
   ]
  },
  {
   "cell_type": "code",
   "execution_count": 122,
   "id": "89286dba",
   "metadata": {},
   "outputs": [
    {
     "data": {
      "text/plain": [
       "int"
      ]
     },
     "execution_count": 122,
     "metadata": {},
     "output_type": "execute_result"
    }
   ],
   "source": [
    "type(int('123'))"
   ]
  },
  {
   "cell_type": "code",
   "execution_count": 128,
   "id": "242738e0",
   "metadata": {},
   "outputs": [
    {
     "data": {
      "text/plain": [
       "'1234'"
      ]
     },
     "execution_count": 128,
     "metadata": {},
     "output_type": "execute_result"
    }
   ],
   "source": [
    "str(1234)"
   ]
  },
  {
   "cell_type": "code",
   "execution_count": 132,
   "id": "7dffce81",
   "metadata": {},
   "outputs": [
    {
     "data": {
      "text/plain": [
       "False"
      ]
     },
     "execution_count": 132,
     "metadata": {},
     "output_type": "execute_result"
    }
   ],
   "source": [
    "bool(0)"
   ]
  },
  {
   "cell_type": "code",
   "execution_count": 149,
   "id": "76a25743",
   "metadata": {},
   "outputs": [
    {
     "name": "stdout",
     "output_type": "stream",
     "text": [
      "<class 'float'>\n"
     ]
    },
    {
     "data": {
      "text/plain": [
       "'-123.02'"
      ]
     },
     "execution_count": 149,
     "metadata": {},
     "output_type": "execute_result"
    }
   ],
   "source": [
    "print(type(var))\n",
    "str(var)"
   ]
  },
  {
   "cell_type": "code",
   "execution_count": 150,
   "id": "9e90b3fe",
   "metadata": {},
   "outputs": [
    {
     "name": "stdout",
     "output_type": "stream",
     "text": [
      "-123.02Abhijeet1000Abhijeet1000HelloMy name is Abhijeet\n"
     ]
    }
   ],
   "source": [
    "print(var, var1, var2, sep = 'Abhijeet', end = 'Hello')\n",
    "print('My name is Abhijeet')"
   ]
  },
  {
   "cell_type": "code",
   "execution_count": null,
   "id": "fd81bc6d",
   "metadata": {},
   "outputs": [],
   "source": []
  }
 ],
 "metadata": {
  "kernelspec": {
   "display_name": "Python 3 (ipykernel)",
   "language": "python",
   "name": "python3"
  },
  "language_info": {
   "codemirror_mode": {
    "name": "ipython",
    "version": 3
   },
   "file_extension": ".py",
   "mimetype": "text/x-python",
   "name": "python",
   "nbconvert_exporter": "python",
   "pygments_lexer": "ipython3",
   "version": "3.8.10"
  }
 },
 "nbformat": 4,
 "nbformat_minor": 5
}
