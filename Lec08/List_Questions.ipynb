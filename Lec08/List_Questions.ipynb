{
 "cells": [
  {
   "cell_type": "code",
   "execution_count": 1,
   "id": "2ba4c911",
   "metadata": {},
   "outputs": [],
   "source": [
    "prices = [10, 2, 6, 8, 4]\n",
    "total_money = 10"
   ]
  },
  {
   "cell_type": "code",
   "execution_count": 10,
   "id": "b113bd33",
   "metadata": {},
   "outputs": [],
   "source": [
    "def find_roses(arr, target):\n",
    "    price1 = 0\n",
    "    price2 = 9999999999\n",
    "    for i in range(len(arr)):\n",
    "        for j in range(i + 1, len(arr)):\n",
    "            diff = 0\n",
    "            if (arr[i] > arr[j]):\n",
    "                diff = arr[i] - arr[j]\n",
    "            else:\n",
    "                diff = arr[j] - arr[i]\n",
    "            if (arr[i] + arr[j] == target) and ((price2 - price1) > diff):\n",
    "                if (arr[i] < arr[j]): \n",
    "                    price1 = arr[i]\n",
    "                    price2 = arr[j]\n",
    "                else:\n",
    "                    price1 = arr[j]\n",
    "                    price2 = arr[i]\n",
    "    return price1, price2"
   ]
  },
  {
   "cell_type": "code",
   "execution_count": 11,
   "id": "ce0e25ac",
   "metadata": {},
   "outputs": [
    {
     "data": {
      "text/plain": [
       "(4, 6)"
      ]
     },
     "execution_count": 11,
     "metadata": {},
     "output_type": "execute_result"
    }
   ],
   "source": [
    "find_roses(prices, total_money)"
   ]
  },
  {
   "cell_type": "code",
   "execution_count": 12,
   "id": "bb60827d",
   "metadata": {},
   "outputs": [],
   "source": [
    "val = 110022"
   ]
  },
  {
   "cell_type": "code",
   "execution_count": 14,
   "id": "52e6cc0b",
   "metadata": {},
   "outputs": [
    {
     "name": "stdout",
     "output_type": "stream",
     "text": [
      "1 4 2 12 34 67 90\n"
     ]
    }
   ],
   "source": [
    "t = input()"
   ]
  },
  {
   "cell_type": "code",
   "execution_count": 17,
   "id": "ab9e009d",
   "metadata": {},
   "outputs": [
    {
     "data": {
      "text/plain": [
       "['1', '4', '2', '12', '34', '67', '90']"
      ]
     },
     "execution_count": 17,
     "metadata": {},
     "output_type": "execute_result"
    }
   ],
   "source": [
    "t.split()"
   ]
  },
  {
   "cell_type": "code",
   "execution_count": null,
   "id": "039e1974",
   "metadata": {},
   "outputs": [],
   "source": []
  }
 ],
 "metadata": {
  "kernelspec": {
   "display_name": "Python 3 (ipykernel)",
   "language": "python",
   "name": "python3"
  },
  "language_info": {
   "codemirror_mode": {
    "name": "ipython",
    "version": 3
   },
   "file_extension": ".py",
   "mimetype": "text/x-python",
   "name": "python",
   "nbconvert_exporter": "python",
   "pygments_lexer": "ipython3",
   "version": "3.8.10"
  }
 },
 "nbformat": 4,
 "nbformat_minor": 5
}
