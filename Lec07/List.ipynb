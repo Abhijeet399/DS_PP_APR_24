{
 "cells": [
  {
   "cell_type": "code",
   "execution_count": 2,
   "id": "6bac53a6",
   "metadata": {},
   "outputs": [
    {
     "name": "stdout",
     "output_type": "stream",
     "text": [
      "1 9\n",
      "2 8\n",
      "3 7\n",
      "4 6\n",
      "5 5\n",
      "6 4\n",
      "7 3\n",
      "8 2\n",
      "9 1\n"
     ]
    }
   ],
   "source": [
    "li = [1, 2, 3, 4, 5, 6, 7, 8, 9, 10]\n",
    "target = 10\n",
    "\n",
    "for i in li:\n",
    "    for j in li:\n",
    "        if  (i + j == target):\n",
    "            print(i, j)"
   ]
  },
  {
   "cell_type": "code",
   "execution_count": 3,
   "id": "6170a303",
   "metadata": {},
   "outputs": [
    {
     "name": "stdout",
     "output_type": "stream",
     "text": [
      "2 10\n",
      "3 9\n",
      "4 8\n",
      "5 7\n"
     ]
    }
   ],
   "source": [
    "li = [1, 2, 3, 4, 5, 6, 7, 8, 9, 10]\n",
    "target = 12\n",
    "\n",
    "x = 0\n",
    "y = len(li) - 1\n",
    "\n",
    "while (x < y):\n",
    "    if (li[x] + li[y] < target):\n",
    "        x += 1\n",
    "    elif (li[x] + li[y] > target):\n",
    "        y -= 1\n",
    "    else:\n",
    "        print(li[x], li[y])\n",
    "        x += 1\n",
    "        y -= 1"
   ]
  },
  {
   "cell_type": "code",
   "execution_count": 4,
   "id": "628b0b64",
   "metadata": {},
   "outputs": [],
   "source": [
    "li = [1, 2, 3, 4, 5, 6, 7, 8, 9, 10]\n",
    "\n",
    "for i in range(int(len(li)/2)):\n",
    "    temp = li[i]\n",
    "    li[i] = li[len(li) - 1 - i]\n",
    "    li[len(li) - 1 - i] = temp"
   ]
  },
  {
   "cell_type": "code",
   "execution_count": 5,
   "id": "8a1a713a",
   "metadata": {},
   "outputs": [
    {
     "data": {
      "text/plain": [
       "[10, 9, 8, 7, 6, 5, 4, 3, 2, 1]"
      ]
     },
     "execution_count": 5,
     "metadata": {},
     "output_type": "execute_result"
    }
   ],
   "source": [
    "li"
   ]
  },
  {
   "cell_type": "code",
   "execution_count": 7,
   "id": "6657c0f2",
   "metadata": {},
   "outputs": [
    {
     "name": "stdout",
     "output_type": "stream",
     "text": [
      "1 4 10\n",
      "1 5 9\n",
      "1 6 8\n",
      "2 3 10\n",
      "2 4 9\n",
      "2 5 8\n",
      "2 6 7\n",
      "3 4 8\n",
      "3 5 7\n",
      "4 5 6\n"
     ]
    }
   ],
   "source": [
    "li = [1,2,3,4,5,6,7,8,9,10]\n",
    "target = 15\n",
    "\n",
    "for i in range(len(li) - 2):\n",
    "    x = i + 1\n",
    "    y = len(li) - 1\n",
    "    while (x < y):\n",
    "        if (li[i] + li[x] + li[y] < target):\n",
    "            x += 1\n",
    "        elif (li[i] + li[x] + li[y] > target):\n",
    "            y -= 1\n",
    "        else:\n",
    "            print(li[i], li[x], li[y])\n",
    "            x += 1\n",
    "            y -= 1"
   ]
  },
  {
   "cell_type": "code",
   "execution_count": 8,
   "id": "7f5cc797",
   "metadata": {},
   "outputs": [],
   "source": [
    "# SERACHING"
   ]
  },
  {
   "cell_type": "code",
   "execution_count": 10,
   "id": "3ee3c6a1",
   "metadata": {},
   "outputs": [],
   "source": [
    "# Find 37 in the li array/list\n",
    "# Given li is not sorted"
   ]
  },
  {
   "cell_type": "code",
   "execution_count": 11,
   "id": "4961370a",
   "metadata": {},
   "outputs": [
    {
     "data": {
      "text/plain": [
       "[1, 2, 3, 4, 5, 6, 7, 8, 9, 10]"
      ]
     },
     "execution_count": 11,
     "metadata": {},
     "output_type": "execute_result"
    }
   ],
   "source": [
    "li"
   ]
  },
  {
   "cell_type": "code",
   "execution_count": 14,
   "id": "4dc24ee2",
   "metadata": {},
   "outputs": [
    {
     "name": "stdout",
     "output_type": "stream",
     "text": [
      "Not Got It\n"
     ]
    }
   ],
   "source": [
    "# Linear Search\n",
    "\n",
    "target = 37\n",
    "flag = False\n",
    "\n",
    "for i in li:\n",
    "    if i == target:\n",
    "        flag = True\n",
    "        break\n",
    "    \n",
    "if flag:\n",
    "    print('Got It')\n",
    "else:\n",
    "    print('Not Got It')"
   ]
  },
  {
   "cell_type": "code",
   "execution_count": 15,
   "id": "b5620648",
   "metadata": {},
   "outputs": [
    {
     "data": {
      "text/plain": [
       "[1, 2, 3, 4, 5, 6, 7, 8, 9, 10]"
      ]
     },
     "execution_count": 15,
     "metadata": {},
     "output_type": "execute_result"
    }
   ],
   "source": [
    "li"
   ]
  },
  {
   "cell_type": "code",
   "execution_count": 16,
   "id": "f746c3b4",
   "metadata": {},
   "outputs": [],
   "source": [
    "def sorted_notsorted(li):\n",
    "    for i in range(len(li) - 1):\n",
    "        if (li[i + 1] < li[i]):\n",
    "            return 'Not Sorted'\n",
    "    return 'Sorted'"
   ]
  },
  {
   "cell_type": "code",
   "execution_count": 17,
   "id": "91f18f7b",
   "metadata": {},
   "outputs": [
    {
     "data": {
      "text/plain": [
       "'Sorted'"
      ]
     },
     "execution_count": 17,
     "metadata": {},
     "output_type": "execute_result"
    }
   ],
   "source": [
    "sorted_notsorted(li)"
   ]
  },
  {
   "cell_type": "code",
   "execution_count": 20,
   "id": "34f7d5b6",
   "metadata": {},
   "outputs": [],
   "source": [
    "def binary_search(arr, target):\n",
    "    low = 0\n",
    "    high = len(arr) - 1\n",
    "    while (low <= high):\n",
    "        mid = (low + high)//2\n",
    "        if (arr[mid] < target):\n",
    "            low = mid + 1\n",
    "        elif (arr[mid] > target):\n",
    "            high = mid - 1\n",
    "        else:\n",
    "            return mid\n",
    "    return -1"
   ]
  },
  {
   "cell_type": "code",
   "execution_count": 23,
   "id": "41783f03",
   "metadata": {},
   "outputs": [
    {
     "data": {
      "text/plain": [
       "9"
      ]
     },
     "execution_count": 23,
     "metadata": {},
     "output_type": "execute_result"
    }
   ],
   "source": [
    "binary_search(li, 10)"
   ]
  },
  {
   "cell_type": "code",
   "execution_count": null,
   "id": "c5943695",
   "metadata": {},
   "outputs": [],
   "source": []
  }
 ],
 "metadata": {
  "kernelspec": {
   "display_name": "Python 3 (ipykernel)",
   "language": "python",
   "name": "python3"
  },
  "language_info": {
   "codemirror_mode": {
    "name": "ipython",
    "version": 3
   },
   "file_extension": ".py",
   "mimetype": "text/x-python",
   "name": "python",
   "nbconvert_exporter": "python",
   "pygments_lexer": "ipython3",
   "version": "3.8.10"
  }
 },
 "nbformat": 4,
 "nbformat_minor": 5
}
