{
 "cells": [
  {
   "cell_type": "code",
   "execution_count": 4,
   "id": "ad5081e6",
   "metadata": {},
   "outputs": [
    {
     "name": "stdout",
     "output_type": "stream",
     "text": [
      "*       * \n",
      "  *   *   \n",
      "    *     \n",
      "  *   *   \n",
      "*       * \n"
     ]
    }
   ],
   "source": [
    "n = 5\n",
    "\n",
    "for i in range(1, n + 1):\n",
    "    for j in range(1, n + 1):\n",
    "        if (i == j) or (i + j == n + 1):\n",
    "            print('* ', end = '')\n",
    "        else:\n",
    "            print('  ', end = '')\n",
    "    print()"
   ]
  },
  {
   "cell_type": "code",
   "execution_count": 6,
   "id": "ea278b73",
   "metadata": {},
   "outputs": [
    {
     "name": "stdout",
     "output_type": "stream",
     "text": [
      "Hello World\n",
      "Hello World\n",
      "Hello World\n",
      "Hello World\n",
      "Hello World\n"
     ]
    }
   ],
   "source": [
    "count = 0\n",
    "\n",
    "while (count < 5):\n",
    "    print('Hello World')\n",
    "    count += 1"
   ]
  },
  {
   "cell_type": "code",
   "execution_count": 7,
   "id": "6c47e0b0",
   "metadata": {},
   "outputs": [
    {
     "data": {
      "text/plain": [
       "5"
      ]
     },
     "execution_count": 7,
     "metadata": {},
     "output_type": "execute_result"
    }
   ],
   "source": [
    "count"
   ]
  },
  {
   "cell_type": "code",
   "execution_count": 8,
   "id": "d781f14c",
   "metadata": {},
   "outputs": [],
   "source": [
    "# Functions"
   ]
  },
  {
   "cell_type": "code",
   "execution_count": 9,
   "id": "9067f464",
   "metadata": {},
   "outputs": [],
   "source": [
    "def temp():\n",
    "    print('Hi')"
   ]
  },
  {
   "cell_type": "code",
   "execution_count": 10,
   "id": "7f91b923",
   "metadata": {},
   "outputs": [
    {
     "name": "stdout",
     "output_type": "stream",
     "text": [
      "<function temp at 0x000002112FC8DE50>\n"
     ]
    }
   ],
   "source": [
    "print(temp)"
   ]
  },
  {
   "cell_type": "code",
   "execution_count": 11,
   "id": "506ab487",
   "metadata": {},
   "outputs": [
    {
     "name": "stdout",
     "output_type": "stream",
     "text": [
      "Hi\n"
     ]
    }
   ],
   "source": [
    "temp()"
   ]
  },
  {
   "cell_type": "code",
   "execution_count": 17,
   "id": "322ef2e3",
   "metadata": {},
   "outputs": [],
   "source": [
    "def calc(a, b, button):\n",
    "    print(a, b)\n",
    "    return a + b"
   ]
  },
  {
   "cell_type": "code",
   "execution_count": 18,
   "id": "d4dccff6",
   "metadata": {},
   "outputs": [
    {
     "name": "stdout",
     "output_type": "stream",
     "text": [
      "200 100\n"
     ]
    },
    {
     "data": {
      "text/plain": [
       "300"
      ]
     },
     "execution_count": 18,
     "metadata": {},
     "output_type": "execute_result"
    }
   ],
   "source": [
    "calc(200, 100, 3)"
   ]
  },
  {
   "cell_type": "code",
   "execution_count": 21,
   "id": "2886f88d",
   "metadata": {},
   "outputs": [],
   "source": [
    "def adder(a, b = 0):\n",
    "    print(a + b)"
   ]
  },
  {
   "cell_type": "code",
   "execution_count": 25,
   "id": "c74ded01",
   "metadata": {},
   "outputs": [
    {
     "name": "stdout",
     "output_type": "stream",
     "text": [
      "2\n"
     ]
    }
   ],
   "source": [
    "adder(2)"
   ]
  },
  {
   "cell_type": "code",
   "execution_count": 32,
   "id": "426b56c0",
   "metadata": {},
   "outputs": [
    {
     "name": "stdout",
     "output_type": "stream",
     "text": [
      "100 100 100\n"
     ]
    }
   ],
   "source": [
    "a = 100\n",
    "b = '100'\n",
    "print(a, b, 100) # example of variable length arguments"
   ]
  },
  {
   "cell_type": "code",
   "execution_count": 34,
   "id": "e08bb3cf",
   "metadata": {},
   "outputs": [],
   "source": [
    "num = 37\n",
    "\n",
    "def no_factors(num):\n",
    "    factors = 0\n",
    "    for i in range(1, num + 1):\n",
    "        if num % i == 0:\n",
    "            factors += 1\n",
    "    return factors"
   ]
  },
  {
   "cell_type": "code",
   "execution_count": 40,
   "id": "0b47c913",
   "metadata": {},
   "outputs": [
    {
     "name": "stdout",
     "output_type": "stream",
     "text": [
      "Not Prime 9\n"
     ]
    }
   ],
   "source": [
    "if no_factors(100) == 2:\n",
    "    print('Prime')\n",
    "else:\n",
    "    print('Not Prime', no_factors(100))"
   ]
  },
  {
   "cell_type": "code",
   "execution_count": 48,
   "id": "54bed66a",
   "metadata": {},
   "outputs": [
    {
     "data": {
      "text/plain": [
       "'Prime'"
      ]
     },
     "execution_count": 48,
     "metadata": {},
     "output_type": "execute_result"
    }
   ],
   "source": [
    "num = 101\n",
    "\n",
    "def prime_noprime(num):\n",
    "    for i in range(2, int(num **0.5) + 1):\n",
    "        if num % i == 0:\n",
    "            return 'Not Prime'\n",
    "    return 'Prime'\n",
    "\n",
    "prime_noprime(num)"
   ]
  },
  {
   "cell_type": "code",
   "execution_count": 61,
   "id": "366e1e14",
   "metadata": {},
   "outputs": [
    {
     "name": "stdout",
     "output_type": "stream",
     "text": [
      "Not Prime\n"
     ]
    }
   ],
   "source": [
    "num = 39\n",
    "for i in range(2, int(num **0.5) + 1):\n",
    "    if num % i == 0:\n",
    "        print('Not Prime')\n",
    "        break\n",
    "    if (i == int(num **0.5)):\n",
    "        print('Prime')"
   ]
  },
  {
   "cell_type": "code",
   "execution_count": 51,
   "id": "b060601b",
   "metadata": {},
   "outputs": [],
   "source": [
    "# Breaking of Loops\n",
    "# Break"
   ]
  },
  {
   "cell_type": "code",
   "execution_count": 64,
   "id": "a8d986ad",
   "metadata": {},
   "outputs": [
    {
     "name": "stdout",
     "output_type": "stream",
     "text": [
      "0 0\n",
      "0 1\n",
      "0 2\n",
      "0 3\n",
      "0 4\n",
      "1 0\n"
     ]
    }
   ],
   "source": [
    "for i in range(2):\n",
    "    for j in range(5):\n",
    "        print(i, j)\n",
    "        if i == 1:\n",
    "            break"
   ]
  },
  {
   "cell_type": "code",
   "execution_count": 66,
   "id": "081a5358",
   "metadata": {},
   "outputs": [],
   "source": [
    "# Continue"
   ]
  },
  {
   "cell_type": "code",
   "execution_count": 69,
   "id": "fce950a9",
   "metadata": {},
   "outputs": [
    {
     "name": "stdout",
     "output_type": "stream",
     "text": [
      "0 0\n",
      "0 1\n",
      "0 2\n",
      "0 4\n",
      "1 0\n",
      "1 1\n",
      "1 2\n",
      "1 4\n"
     ]
    }
   ],
   "source": [
    "for i in range(2):\n",
    "    for j in range(5):\n",
    "        if j == 3:\n",
    "            continue\n",
    "        print(i, j)"
   ]
  },
  {
   "cell_type": "code",
   "execution_count": 70,
   "id": "55bb1166",
   "metadata": {},
   "outputs": [],
   "source": [
    "string1 = 'Abhijeet'\n",
    "string2 = 'Bhattacharya'"
   ]
  },
  {
   "cell_type": "code",
   "execution_count": 71,
   "id": "bf691a52",
   "metadata": {},
   "outputs": [
    {
     "name": "stdout",
     "output_type": "stream",
     "text": [
      "AbhijeetBhattacharya\n"
     ]
    }
   ],
   "source": [
    "print(string1 + string2)"
   ]
  },
  {
   "cell_type": "code",
   "execution_count": 73,
   "id": "f99fa5e9",
   "metadata": {},
   "outputs": [
    {
     "data": {
      "text/plain": [
       "20"
      ]
     },
     "execution_count": 73,
     "metadata": {},
     "output_type": "execute_result"
    }
   ],
   "source": [
    "len(string1 + string2)"
   ]
  },
  {
   "cell_type": "code",
   "execution_count": 76,
   "id": "492e6e74",
   "metadata": {},
   "outputs": [
    {
     "name": "stdout",
     "output_type": "stream",
     "text": [
      "2272852680112 e\n"
     ]
    }
   ],
   "source": [
    "print(id(string1), string1[5])"
   ]
  },
  {
   "cell_type": "code",
   "execution_count": 83,
   "id": "aea51a29",
   "metadata": {},
   "outputs": [
    {
     "data": {
      "text/plain": [
       "'y'"
      ]
     },
     "execution_count": 83,
     "metadata": {},
     "output_type": "execute_result"
    }
   ],
   "source": [
    "(string1 + string2)[-2]"
   ]
  },
  {
   "cell_type": "code",
   "execution_count": null,
   "id": "0c9f57e3",
   "metadata": {},
   "outputs": [],
   "source": []
  }
 ],
 "metadata": {
  "kernelspec": {
   "display_name": "Python 3 (ipykernel)",
   "language": "python",
   "name": "python3"
  },
  "language_info": {
   "codemirror_mode": {
    "name": "ipython",
    "version": 3
   },
   "file_extension": ".py",
   "mimetype": "text/x-python",
   "name": "python",
   "nbconvert_exporter": "python",
   "pygments_lexer": "ipython3",
   "version": "3.8.10"
  }
 },
 "nbformat": 4,
 "nbformat_minor": 5
}
