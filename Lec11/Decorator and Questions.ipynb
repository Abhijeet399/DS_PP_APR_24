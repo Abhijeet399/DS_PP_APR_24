{
 "cells": [
  {
   "cell_type": "code",
   "execution_count": 38,
   "id": "f8c269fb",
   "metadata": {},
   "outputs": [],
   "source": [
    "def memory(func):\n",
    "    cache = {}\n",
    "    \n",
    "    def wrapper(num):\n",
    "        if num in cache:\n",
    "            print('Data in cache memory')\n",
    "            print(cache[num])\n",
    "            return cache[num]\n",
    "        answer = func(num)\n",
    "        cache[num] = answer\n",
    "        print(cache[num])\n",
    "        return answer\n",
    "    return wrapper"
   ]
  },
  {
   "cell_type": "code",
   "execution_count": 39,
   "id": "447fb387",
   "metadata": {},
   "outputs": [],
   "source": [
    "# @memory\n",
    "def fibo_n(n):\n",
    "    prev = 0\n",
    "    nxt = 1\n",
    "    for i in range(n):\n",
    "        temp = nxt\n",
    "        nxt += prev\n",
    "        prev = temp\n",
    "    return prev"
   ]
  },
  {
   "cell_type": "code",
   "execution_count": 40,
   "id": "4b26e4fe",
   "metadata": {},
   "outputs": [],
   "source": [
    "fibo_n = memory(fibo_n)"
   ]
  },
  {
   "cell_type": "code",
   "execution_count": 41,
   "id": "5a445ca4",
   "metadata": {},
   "outputs": [
    {
     "name": "stdout",
     "output_type": "stream",
     "text": [
      "8\n"
     ]
    },
    {
     "data": {
      "text/plain": [
       "8"
      ]
     },
     "execution_count": 41,
     "metadata": {},
     "output_type": "execute_result"
    }
   ],
   "source": [
    "fibo_n(6)"
   ]
  },
  {
   "cell_type": "code",
   "execution_count": 42,
   "id": "7e902cb7",
   "metadata": {},
   "outputs": [],
   "source": [
    "def fibo_rec(n):\n",
    "    if (n <= 1):\n",
    "        return n\n",
    "    return fibo_rec(n - 1) + fibo_rec(n - 2)"
   ]
  },
  {
   "cell_type": "code",
   "execution_count": 43,
   "id": "c5e85852",
   "metadata": {},
   "outputs": [
    {
     "data": {
      "text/plain": [
       "55"
      ]
     },
     "execution_count": 43,
     "metadata": {},
     "output_type": "execute_result"
    }
   ],
   "source": [
    "fibo_rec(10)"
   ]
  },
  {
   "cell_type": "code",
   "execution_count": 45,
   "id": "1f4aca8d",
   "metadata": {},
   "outputs": [
    {
     "name": "stdout",
     "output_type": "stream",
     "text": [
      "Data in cache memory\n",
      "6765\n"
     ]
    }
   ],
   "source": [
    "n = fibo_n(20)"
   ]
  },
  {
   "cell_type": "code",
   "execution_count": 46,
   "id": "04e15e94",
   "metadata": {},
   "outputs": [],
   "source": [
    "def temp():\n",
    "    print('Hello')"
   ]
  },
  {
   "cell_type": "code",
   "execution_count": 48,
   "id": "612b63a7",
   "metadata": {},
   "outputs": [
    {
     "name": "stdout",
     "output_type": "stream",
     "text": [
      "Hello\n"
     ]
    }
   ],
   "source": [
    "temp()"
   ]
  },
  {
   "cell_type": "code",
   "execution_count": null,
   "id": "d33bbdaf",
   "metadata": {},
   "outputs": [],
   "source": []
  },
  {
   "cell_type": "code",
   "execution_count": null,
   "id": "30945e98",
   "metadata": {},
   "outputs": [],
   "source": []
  },
  {
   "cell_type": "code",
   "execution_count": 50,
   "id": "13ec4b41",
   "metadata": {},
   "outputs": [],
   "source": [
    "# 9 2\n",
    "# 475 2781 3388 3525 3766 3800 4689 6046 9865 "
   ]
  },
  {
   "cell_type": "code",
   "execution_count": 58,
   "id": "def1a221",
   "metadata": {},
   "outputs": [],
   "source": [
    "def num_stu(arr, max_pages):\n",
    "    stu = 1\n",
    "    pages_per_stu = 0\n",
    "    for i in range(len(arr)):\n",
    "        if (pages_per_stu + arr[i]) <= max_pages:\n",
    "            pages_per_stu += arr[i]\n",
    "        else:\n",
    "            stu += 1\n",
    "            pages_per_stu = arr[i]\n",
    "    return stu"
   ]
  },
  {
   "cell_type": "code",
   "execution_count": 59,
   "id": "d70747d5",
   "metadata": {},
   "outputs": [],
   "source": [
    "n = 4\n",
    "m = 2\n",
    "pages = [12, 34, 67, 90]"
   ]
  },
  {
   "cell_type": "code",
   "execution_count": 60,
   "id": "245b3d0b",
   "metadata": {},
   "outputs": [
    {
     "name": "stdout",
     "output_type": "stream",
     "text": [
      "203\n"
     ]
    }
   ],
   "source": [
    "low = pages[len(pages) - 1]\n",
    "high = sum(pages)\n",
    "print(high)"
   ]
  },
  {
   "cell_type": "code",
   "execution_count": 64,
   "id": "08e06043",
   "metadata": {},
   "outputs": [
    {
     "name": "stdout",
     "output_type": "stream",
     "text": [
      "113\n"
     ]
    }
   ],
   "source": [
    "while (low <= high):\n",
    "    mid = int((low + high)/2)\n",
    "    students = num_stu(pages, mid)\n",
    "    if (students > m):\n",
    "        low = mid + 1\n",
    "    else:\n",
    "        high = mid - 1\n",
    "print(int(low))"
   ]
  },
  {
   "cell_type": "code",
   "execution_count": null,
   "id": "58867c27",
   "metadata": {},
   "outputs": [],
   "source": []
  }
 ],
 "metadata": {
  "kernelspec": {
   "display_name": "Python 3 (ipykernel)",
   "language": "python",
   "name": "python3"
  },
  "language_info": {
   "codemirror_mode": {
    "name": "ipython",
    "version": 3
   },
   "file_extension": ".py",
   "mimetype": "text/x-python",
   "name": "python",
   "nbconvert_exporter": "python",
   "pygments_lexer": "ipython3",
   "version": "3.8.10"
  }
 },
 "nbformat": 4,
 "nbformat_minor": 5
}
