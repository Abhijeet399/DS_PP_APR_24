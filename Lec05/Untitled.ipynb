{
 "cells": [
  {
   "cell_type": "code",
   "execution_count": 1,
   "id": "93d6d484",
   "metadata": {},
   "outputs": [],
   "source": [
    "string = \"Abhijeet\""
   ]
  },
  {
   "cell_type": "code",
   "execution_count": 2,
   "id": "f4b13a26",
   "metadata": {},
   "outputs": [
    {
     "name": "stdout",
     "output_type": "stream",
     "text": [
      "A b h i "
     ]
    }
   ],
   "source": [
    "for i in string:\n",
    "    print(i, end = ' ')\n",
    "    if (i == 'i'):\n",
    "        break"
   ]
  },
  {
   "cell_type": "code",
   "execution_count": 3,
   "id": "e60dbe62",
   "metadata": {},
   "outputs": [
    {
     "name": "stdout",
     "output_type": "stream",
     "text": [
      "23\n"
     ]
    }
   ],
   "source": [
    "print(2, end = '')\n",
    "print(3)"
   ]
  },
  {
   "cell_type": "code",
   "execution_count": 4,
   "id": "04bda725",
   "metadata": {},
   "outputs": [
    {
     "name": "stdout",
     "output_type": "stream",
     "text": [
      "HelloAbhijeet\n",
      "A b h i "
     ]
    }
   ],
   "source": [
    "inp = input('Hello')\n",
    "count = 0\n",
    "\n",
    "for i in inp:\n",
    "    print(i, end = ' ')\n",
    "    if (count == 3):\n",
    "        break\n",
    "    else:\n",
    "        count += 1"
   ]
  },
  {
   "cell_type": "code",
   "execution_count": 13,
   "id": "03cc846f",
   "metadata": {},
   "outputs": [],
   "source": [
    "var = True"
   ]
  },
  {
   "cell_type": "code",
   "execution_count": 14,
   "id": "17478c73",
   "metadata": {},
   "outputs": [],
   "source": [
    "var = str(var)"
   ]
  },
  {
   "cell_type": "code",
   "execution_count": 15,
   "id": "2815e399",
   "metadata": {},
   "outputs": [
    {
     "name": "stdout",
     "output_type": "stream",
     "text": [
      "True <class 'str'>\n"
     ]
    }
   ],
   "source": [
    "print(var, type(var))"
   ]
  },
  {
   "cell_type": "code",
   "execution_count": 17,
   "id": "1a5326a7",
   "metadata": {},
   "outputs": [],
   "source": [
    "string = 'Hello'"
   ]
  },
  {
   "cell_type": "code",
   "execution_count": 18,
   "id": "1d7a23e2",
   "metadata": {},
   "outputs": [
    {
     "name": "stdout",
     "output_type": "stream",
     "text": [
      "Hello\n"
     ]
    }
   ],
   "source": [
    "print(string)"
   ]
  },
  {
   "cell_type": "code",
   "execution_count": 19,
   "id": "c77fb51a",
   "metadata": {},
   "outputs": [
    {
     "name": "stdout",
     "output_type": "stream",
     "text": [
      "2666994394032 Hello\n",
      "2666991786480 Abhijeet\n"
     ]
    }
   ],
   "source": [
    "print(id(string), string)\n",
    "string = 'Abhijeet'\n",
    "print(id(string), string)"
   ]
  },
  {
   "cell_type": "code",
   "execution_count": 23,
   "id": "ad2a3b54",
   "metadata": {},
   "outputs": [
    {
     "ename": "TypeError",
     "evalue": "'str' object does not support item assignment",
     "output_type": "error",
     "traceback": [
      "\u001b[1;31m---------------------------------------------------------------------------\u001b[0m",
      "\u001b[1;31mTypeError\u001b[0m                                 Traceback (most recent call last)",
      "Cell \u001b[1;32mIn[23], line 1\u001b[0m\n\u001b[1;32m----> 1\u001b[0m \u001b[43mstring\u001b[49m\u001b[43m[\u001b[49m\u001b[38;5;241;43m-\u001b[39;49m\u001b[38;5;241;43m1\u001b[39;49m\u001b[43m]\u001b[49m \u001b[38;5;241m=\u001b[39m \u001b[38;5;124m'\u001b[39m\u001b[38;5;124mA\u001b[39m\u001b[38;5;124m'\u001b[39m\n",
      "\u001b[1;31mTypeError\u001b[0m: 'str' object does not support item assignment"
     ]
    }
   ],
   "source": [
    "string[-1] = 'A'"
   ]
  },
  {
   "cell_type": "code",
   "execution_count": 26,
   "id": "478a027c",
   "metadata": {},
   "outputs": [
    {
     "name": "stdout",
     "output_type": "stream",
     "text": [
      "2666991786480 Abhijeet\n",
      "2667005426064 AbhijeetBhattacharya\n"
     ]
    }
   ],
   "source": [
    "print(id(string), string)\n",
    "string = string + 'Bhattacharya'\n",
    "print(id(string), string)"
   ]
  },
  {
   "cell_type": "code",
   "execution_count": 30,
   "id": "770a3b84",
   "metadata": {},
   "outputs": [
    {
     "name": "stdout",
     "output_type": "stream",
     "text": [
      "T h e   s k y   i s   b l u e 12\n"
     ]
    }
   ],
   "source": [
    "string = 'The sky is blue'\n",
    "count = 0\n",
    "\n",
    "for i in string:\n",
    "    print(i, end = ' ')\n",
    "    if (i != ' '):\n",
    "        count += 1\n",
    "print(count)"
   ]
  },
  {
   "cell_type": "code",
   "execution_count": 33,
   "id": "8f5cf13b",
   "metadata": {},
   "outputs": [
    {
     "name": "stdout",
     "output_type": "stream",
     "text": [
      "5\n",
      "4\n",
      "3\n",
      "2\n",
      "1\n"
     ]
    }
   ],
   "source": [
    "for i in range(5, 0, -1):\n",
    "    print(i)"
   ]
  },
  {
   "cell_type": "code",
   "execution_count": 49,
   "id": "4fa857e1",
   "metadata": {},
   "outputs": [
    {
     "name": "stdout",
     "output_type": "stream",
     "text": [
      "eulb si yks ehT\n"
     ]
    }
   ],
   "source": [
    "string = 'The sky is blue'\n",
    "count = 0\n",
    "\n",
    "for i in string:\n",
    "#     print(i, end = ' ')\n",
    "    count += 1\n",
    "temp = ''\n",
    "\n",
    "for i in range(count - 1, -1, -1):\n",
    "    temp += string[i]\n",
    "#     print(string[i], end = '')\n",
    "print(temp)"
   ]
  },
  {
   "cell_type": "code",
   "execution_count": 98,
   "id": "5cddcebb",
   "metadata": {},
   "outputs": [],
   "source": [
    "string = 'The sky is blue'\n",
    "\n",
    "ans = ''\n",
    "count = 0\n",
    "for i in string:\n",
    "    count += 1\n",
    "\n",
    "temp = ''\n",
    "for i in range(count - 1, -1, -1):\n",
    "    if (string[i] == ' '):\n",
    "#         print(temp)\n",
    "        ans += temp + ' '\n",
    "        temp = ''\n",
    "    else:\n",
    "#         cap_i = ord(string[i]) - 32\n",
    "#         temp = chr(cap_i) + temp\n",
    "        temp = string[i] + temp\n",
    "\n",
    "ans += temp"
   ]
  },
  {
   "cell_type": "code",
   "execution_count": 99,
   "id": "b38e7de7",
   "metadata": {},
   "outputs": [
    {
     "data": {
      "text/plain": [
       "'blue is sky The'"
      ]
     },
     "execution_count": 99,
     "metadata": {},
     "output_type": "execute_result"
    }
   ],
   "source": [
    "ans"
   ]
  },
  {
   "cell_type": "code",
   "execution_count": 115,
   "id": "593392e7",
   "metadata": {},
   "outputs": [],
   "source": [
    "def lower_upper(string):\n",
    "    for i in string:\n",
    "        if (ord(i) >= ord('a') and ord(i) <= ord('z')):\n",
    "            print(chr(ord(i) - 32), end = '')\n",
    "        else:\n",
    "            print(i, end = '')"
   ]
  },
  {
   "cell_type": "code",
   "execution_count": 116,
   "id": "526a2388",
   "metadata": {},
   "outputs": [
    {
     "name": "stdout",
     "output_type": "stream",
     "text": [
      "HELLO MY NAME IS ABHIJEET"
     ]
    }
   ],
   "source": [
    "lower_upper(\"Hello My Name Is Abhijeet\")"
   ]
  },
  {
   "cell_type": "code",
   "execution_count": 117,
   "id": "c53cc6bf",
   "metadata": {},
   "outputs": [
    {
     "data": {
      "text/plain": [
       "'A'"
      ]
     },
     "execution_count": 117,
     "metadata": {},
     "output_type": "execute_result"
    }
   ],
   "source": [
    "chr(65)"
   ]
  },
  {
   "cell_type": "code",
   "execution_count": 127,
   "id": "567beba8",
   "metadata": {},
   "outputs": [],
   "source": [
    "def upper_lower(string):\n",
    "    ans = ''\n",
    "    for i in string:\n",
    "        if (ord(i) >= ord('A') and ord(i) <= ord('Z')):\n",
    "            ans += chr(ord(i) + 32)\n",
    "#             print(chr(ord(i) + 32), end = '')\n",
    "        else:\n",
    "            ans += i\n",
    "#             print(i, end = '')\n",
    "    return ans"
   ]
  },
  {
   "cell_type": "code",
   "execution_count": 128,
   "id": "848f3c7f",
   "metadata": {},
   "outputs": [
    {
     "data": {
      "text/plain": [
       "'hello my name is abhijeet'"
      ]
     },
     "execution_count": 128,
     "metadata": {},
     "output_type": "execute_result"
    }
   ],
   "source": [
    "upper_lower(\"Hello My Name Is Abhijeet\")"
   ]
  },
  {
   "cell_type": "code",
   "execution_count": 138,
   "id": "64717fea",
   "metadata": {},
   "outputs": [
    {
     "name": "stdout",
     "output_type": "stream",
     "text": [
      "Yes/NoYES \n",
      "No\n"
     ]
    }
   ],
   "source": [
    "inp = input('Yes/No')\n",
    "\n",
    "if (upper_lower(inp) == 'yes'):\n",
    "    print('Yes')\n",
    "else:\n",
    "    print('No')"
   ]
  },
  {
   "cell_type": "code",
   "execution_count": 140,
   "id": "5075198b",
   "metadata": {},
   "outputs": [],
   "source": [
    "string = '  Hello  '"
   ]
  },
  {
   "cell_type": "code",
   "execution_count": 141,
   "id": "17cc55c1",
   "metadata": {},
   "outputs": [],
   "source": [
    "ans = ''\n",
    "for i in string:\n",
    "    if (i != ' '):\n",
    "        ans += i"
   ]
  },
  {
   "cell_type": "code",
   "execution_count": 142,
   "id": "3ecffd23",
   "metadata": {},
   "outputs": [
    {
     "data": {
      "text/plain": [
       "'Hello'"
      ]
     },
     "execution_count": 142,
     "metadata": {},
     "output_type": "execute_result"
    }
   ],
   "source": [
    "ans"
   ]
  },
  {
   "cell_type": "code",
   "execution_count": 144,
   "id": "1d15a741",
   "metadata": {},
   "outputs": [],
   "source": [
    "name = '  Hello my name is Abhijeet  '"
   ]
  },
  {
   "cell_type": "code",
   "execution_count": 149,
   "id": "0b69d6b0",
   "metadata": {},
   "outputs": [
    {
     "name": "stdout",
     "output_type": "stream",
     "text": [
      "Hello my name is Abhijeet\n",
      "  Hello my name is Abhijeet  \n"
     ]
    }
   ],
   "source": [
    "print(name.strip())\n",
    "print(name)"
   ]
  },
  {
   "cell_type": "code",
   "execution_count": 146,
   "id": "f85cecd4",
   "metadata": {},
   "outputs": [
    {
     "ename": "AttributeError",
     "evalue": "'int' object has no attribute 'strip'",
     "output_type": "error",
     "traceback": [
      "\u001b[1;31m---------------------------------------------------------------------------\u001b[0m",
      "\u001b[1;31mAttributeError\u001b[0m                            Traceback (most recent call last)",
      "Cell \u001b[1;32mIn[146], line 2\u001b[0m\n\u001b[0;32m      1\u001b[0m var \u001b[38;5;241m=\u001b[39m \u001b[38;5;241m7\u001b[39m\n\u001b[1;32m----> 2\u001b[0m \u001b[43mvar\u001b[49m\u001b[38;5;241;43m.\u001b[39;49m\u001b[43mstrip\u001b[49m()\n",
      "\u001b[1;31mAttributeError\u001b[0m: 'int' object has no attribute 'strip'"
     ]
    }
   ],
   "source": [
    "var = 7\n",
    "var.strip()"
   ]
  },
  {
   "cell_type": "code",
   "execution_count": 153,
   "id": "91fe0e19",
   "metadata": {},
   "outputs": [
    {
     "name": "stdout",
     "output_type": "stream",
     "text": [
      "0 0\n",
      "0 1\n",
      "0 2\n",
      "1 0\n",
      "1 1\n",
      "1 2\n",
      "2 0\n",
      "2 1\n",
      "2 2\n",
      "2 2\n",
      "2 2\n",
      "2 2\n",
      "2 2\n",
      "2 2\n",
      "2 2\n",
      "2 2\n",
      "2 2\n",
      "2 2\n"
     ]
    }
   ],
   "source": [
    "n = 3\n",
    "\n",
    "for i in range(n):\n",
    "    for j in range(n):\n",
    "        print(i, j)\n",
    "        \n",
    "for k in range(n):\n",
    "    for l in range(n):\n",
    "        print(i, j)"
   ]
  },
  {
   "cell_type": "code",
   "execution_count": 154,
   "id": "8d2a438e",
   "metadata": {},
   "outputs": [
    {
     "data": {
      "text/plain": [
       "'hello i am abhijeet'"
      ]
     },
     "execution_count": 154,
     "metadata": {},
     "output_type": "execute_result"
    }
   ],
   "source": [
    "'Hello I am ABhijeet'.lower()"
   ]
  },
  {
   "cell_type": "code",
   "execution_count": 155,
   "id": "963ece2f",
   "metadata": {},
   "outputs": [
    {
     "data": {
      "text/plain": [
       "'HELLO I AM ABHIJEET'"
      ]
     },
     "execution_count": 155,
     "metadata": {},
     "output_type": "execute_result"
    }
   ],
   "source": [
    "'Hello I am ABhijeet'.upper()"
   ]
  },
  {
   "cell_type": "code",
   "execution_count": 158,
   "id": "6f56af96",
   "metadata": {},
   "outputs": [],
   "source": [
    "string = 'The sky is blue I am Abhijeet'"
   ]
  },
  {
   "cell_type": "code",
   "execution_count": 162,
   "id": "5aff6728",
   "metadata": {},
   "outputs": [],
   "source": [
    "def replace_chr(string, chr_rem, chr_ins):\n",
    "    ans = ''\n",
    "    for i in string:\n",
    "        if i != chr_rem:\n",
    "            ans += i\n",
    "        else:\n",
    "            ans += chr_ins\n",
    "    return ans"
   ]
  },
  {
   "cell_type": "code",
   "execution_count": 163,
   "id": "a9391151",
   "metadata": {},
   "outputs": [
    {
     "data": {
      "text/plain": [
       "'Th! sky is blu! I am Abhij!!t'"
      ]
     },
     "execution_count": 163,
     "metadata": {},
     "output_type": "execute_result"
    }
   ],
   "source": [
    "replace_chr(string, 'e', '!')"
   ]
  },
  {
   "cell_type": "code",
   "execution_count": 165,
   "id": "091654e4",
   "metadata": {},
   "outputs": [
    {
     "data": {
      "text/plain": [
       "'Th! sky is blu! I am Abhij!!t'"
      ]
     },
     "execution_count": 165,
     "metadata": {},
     "output_type": "execute_result"
    }
   ],
   "source": [
    "string.replace('e', '!')"
   ]
  },
  {
   "cell_type": "code",
   "execution_count": 167,
   "id": "6c3fa11a",
   "metadata": {},
   "outputs": [],
   "source": [
    "def count_chr(string, chr_count):\n",
    "    count = 0\n",
    "    for i in string:\n",
    "        if i == chr_count:\n",
    "            count += 1\n",
    "    return count"
   ]
  },
  {
   "cell_type": "code",
   "execution_count": 168,
   "id": "f21a4105",
   "metadata": {},
   "outputs": [
    {
     "data": {
      "text/plain": [
       "4"
      ]
     },
     "execution_count": 168,
     "metadata": {},
     "output_type": "execute_result"
    }
   ],
   "source": [
    "count_chr(string, 'e')"
   ]
  },
  {
   "cell_type": "code",
   "execution_count": 169,
   "id": "12d99051",
   "metadata": {},
   "outputs": [
    {
     "data": {
      "text/plain": [
       "4"
      ]
     },
     "execution_count": 169,
     "metadata": {},
     "output_type": "execute_result"
    }
   ],
   "source": [
    "string.count('e')"
   ]
  },
  {
   "cell_type": "code",
   "execution_count": 170,
   "id": "1d1a68f1",
   "metadata": {},
   "outputs": [],
   "source": [
    "string = 'Hello my name is Abhijeet'"
   ]
  },
  {
   "cell_type": "code",
   "execution_count": 172,
   "id": "9b8f1424",
   "metadata": {},
   "outputs": [
    {
     "name": "stdout",
     "output_type": "stream",
     "text": [
      "Hello my name is Abhijeet\n"
     ]
    }
   ],
   "source": [
    "ans = ''\n",
    "for i in string:\n",
    "    ans += i\n",
    "    \n",
    "print(ans)"
   ]
  },
  {
   "cell_type": "code",
   "execution_count": null,
   "id": "7fad2ba5",
   "metadata": {},
   "outputs": [],
   "source": []
  }
 ],
 "metadata": {
  "kernelspec": {
   "display_name": "Python 3 (ipykernel)",
   "language": "python",
   "name": "python3"
  },
  "language_info": {
   "codemirror_mode": {
    "name": "ipython",
    "version": 3
   },
   "file_extension": ".py",
   "mimetype": "text/x-python",
   "name": "python",
   "nbconvert_exporter": "python",
   "pygments_lexer": "ipython3",
   "version": "3.8.10"
  }
 },
 "nbformat": 4,
 "nbformat_minor": 5
}
